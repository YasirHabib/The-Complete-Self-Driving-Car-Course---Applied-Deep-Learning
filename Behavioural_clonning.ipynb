{
  "nbformat": 4,
  "nbformat_minor": 0,
  "metadata": {
    "colab": {
      "name": "Behavioural clonning.ipynb",
      "provenance": [],
      "collapsed_sections": []
    },
    "kernelspec": {
      "name": "python3",
      "display_name": "Python 3"
    },
    "accelerator": "GPU"
  },
  "cells": [
    {
      "cell_type": "code",
      "metadata": {
        "id": "_nX32j5bGdqt",
        "colab_type": "code",
        "colab": {
          "base_uri": "https://localhost:8080/",
          "height": 34
        },
        "outputId": "4a9f8385-7a69-428c-a39c-f3ef929553d1"
      },
      "source": [
        "!git clone https://github.com/YasirHabib/The-Complete-Self-Driving-Car-Course---Applied-Deep-Learning.git"
      ],
      "execution_count": 81,
      "outputs": [
        {
          "output_type": "stream",
          "text": [
            "fatal: destination path 'The-Complete-Self-Driving-Car-Course---Applied-Deep-Learning' already exists and is not an empty directory.\n"
          ],
          "name": "stdout"
        }
      ]
    },
    {
      "cell_type": "code",
      "metadata": {
        "id": "eAG5NrHjHat8",
        "colab_type": "code",
        "colab": {
          "base_uri": "https://localhost:8080/",
          "height": 34
        },
        "outputId": "f3a52629-6c8d-4d76-9cd5-188c625ac898"
      },
      "source": [
        "!ls The-Complete-Self-Driving-Car-Course---Applied-Deep-Learning/Data"
      ],
      "execution_count": 82,
      "outputs": [
        {
          "output_type": "stream",
          "text": [
            "driving_log.csv  IMG\n"
          ],
          "name": "stdout"
        }
      ]
    },
    {
      "cell_type": "code",
      "metadata": {
        "id": "XVz7UDM0J2Xv",
        "colab_type": "code",
        "colab": {}
      },
      "source": [
        "import os\n",
        "import numpy as np\n",
        "import matplotlib.pyplot as plt\n",
        "import pandas as pd\n",
        "import cv2\n",
        "import ntpath"
      ],
      "execution_count": 0,
      "outputs": []
    },
    {
      "cell_type": "code",
      "metadata": {
        "id": "mwFp43FvLnli",
        "colab_type": "code",
        "colab": {}
      },
      "source": [
        "from keras.models import Sequential\n",
        "from keras.layers import Conv2D, MaxPooling2D, Flatten, Dense, Dropout"
      ],
      "execution_count": 0,
      "outputs": []
    },
    {
      "cell_type": "code",
      "metadata": {
        "id": "6E6vq7__P5qj",
        "colab_type": "code",
        "colab": {}
      },
      "source": [
        "path = 'The-Complete-Self-Driving-Car-Course---Applied-Deep-Learning/Data'\n",
        "train_dir = os.path.join(path, 'driving_log.csv')"
      ],
      "execution_count": 0,
      "outputs": []
    },
    {
      "cell_type": "code",
      "metadata": {
        "id": "2nXePL3_S3VY",
        "colab_type": "code",
        "colab": {
          "base_uri": "https://localhost:8080/",
          "height": 479
        },
        "outputId": "4276f537-fb66-4dff-d881-cbf837fbefe5"
      },
      "source": [
        "df_data = pd.read_csv(train_dir, header = None)\n",
        "df_data.head()"
      ],
      "execution_count": 86,
      "outputs": [
        {
          "output_type": "execute_result",
          "data": {
            "text/html": [
              "<div>\n",
              "<style scoped>\n",
              "    .dataframe tbody tr th:only-of-type {\n",
              "        vertical-align: middle;\n",
              "    }\n",
              "\n",
              "    .dataframe tbody tr th {\n",
              "        vertical-align: top;\n",
              "    }\n",
              "\n",
              "    .dataframe thead th {\n",
              "        text-align: right;\n",
              "    }\n",
              "</style>\n",
              "<table border=\"1\" class=\"dataframe\">\n",
              "  <thead>\n",
              "    <tr style=\"text-align: right;\">\n",
              "      <th></th>\n",
              "      <th>0</th>\n",
              "      <th>1</th>\n",
              "      <th>2</th>\n",
              "      <th>3</th>\n",
              "      <th>4</th>\n",
              "      <th>5</th>\n",
              "      <th>6</th>\n",
              "    </tr>\n",
              "  </thead>\n",
              "  <tbody>\n",
              "    <tr>\n",
              "      <th>0</th>\n",
              "      <td>C:\\Laptop\\GitHub\\The-Complete-Self-Driving-Car-Course---Applied-Deep-Learning\\The-Complete-Self-Driving-Car-Course---Applied-Deep-Learning\\Data\\IMG\\center_2019_11_30_13_10_08_292.jpg</td>\n",
              "      <td>C:\\Laptop\\GitHub\\The-Complete-Self-Driving-Car-Course---Applied-Deep-Learning\\The-Complete-Self-Driving-Car-Course---Applied-Deep-Learning\\Data\\IMG\\left_2019_11_30_13_10_08_292.jpg</td>\n",
              "      <td>C:\\Laptop\\GitHub\\The-Complete-Self-Driving-Car-Course---Applied-Deep-Learning\\The-Complete-Self-Driving-Car-Course---Applied-Deep-Learning\\Data\\IMG\\right_2019_11_30_13_10_08_292.jpg</td>\n",
              "      <td>0.0</td>\n",
              "      <td>0.0</td>\n",
              "      <td>0.0</td>\n",
              "      <td>0.000081</td>\n",
              "    </tr>\n",
              "    <tr>\n",
              "      <th>1</th>\n",
              "      <td>C:\\Laptop\\GitHub\\The-Complete-Self-Driving-Car-Course---Applied-Deep-Learning\\The-Complete-Self-Driving-Car-Course---Applied-Deep-Learning\\Data\\IMG\\center_2019_11_30_13_10_08_402.jpg</td>\n",
              "      <td>C:\\Laptop\\GitHub\\The-Complete-Self-Driving-Car-Course---Applied-Deep-Learning\\The-Complete-Self-Driving-Car-Course---Applied-Deep-Learning\\Data\\IMG\\left_2019_11_30_13_10_08_402.jpg</td>\n",
              "      <td>C:\\Laptop\\GitHub\\The-Complete-Self-Driving-Car-Course---Applied-Deep-Learning\\The-Complete-Self-Driving-Car-Course---Applied-Deep-Learning\\Data\\IMG\\right_2019_11_30_13_10_08_402.jpg</td>\n",
              "      <td>0.0</td>\n",
              "      <td>0.0</td>\n",
              "      <td>0.0</td>\n",
              "      <td>0.000078</td>\n",
              "    </tr>\n",
              "    <tr>\n",
              "      <th>2</th>\n",
              "      <td>C:\\Laptop\\GitHub\\The-Complete-Self-Driving-Car-Course---Applied-Deep-Learning\\The-Complete-Self-Driving-Car-Course---Applied-Deep-Learning\\Data\\IMG\\center_2019_11_30_13_10_08_508.jpg</td>\n",
              "      <td>C:\\Laptop\\GitHub\\The-Complete-Self-Driving-Car-Course---Applied-Deep-Learning\\The-Complete-Self-Driving-Car-Course---Applied-Deep-Learning\\Data\\IMG\\left_2019_11_30_13_10_08_508.jpg</td>\n",
              "      <td>C:\\Laptop\\GitHub\\The-Complete-Self-Driving-Car-Course---Applied-Deep-Learning\\The-Complete-Self-Driving-Car-Course---Applied-Deep-Learning\\Data\\IMG\\right_2019_11_30_13_10_08_508.jpg</td>\n",
              "      <td>0.0</td>\n",
              "      <td>0.0</td>\n",
              "      <td>0.0</td>\n",
              "      <td>0.000078</td>\n",
              "    </tr>\n",
              "    <tr>\n",
              "      <th>3</th>\n",
              "      <td>C:\\Laptop\\GitHub\\The-Complete-Self-Driving-Car-Course---Applied-Deep-Learning\\The-Complete-Self-Driving-Car-Course---Applied-Deep-Learning\\Data\\IMG\\center_2019_11_30_13_10_08_609.jpg</td>\n",
              "      <td>C:\\Laptop\\GitHub\\The-Complete-Self-Driving-Car-Course---Applied-Deep-Learning\\The-Complete-Self-Driving-Car-Course---Applied-Deep-Learning\\Data\\IMG\\left_2019_11_30_13_10_08_609.jpg</td>\n",
              "      <td>C:\\Laptop\\GitHub\\The-Complete-Self-Driving-Car-Course---Applied-Deep-Learning\\The-Complete-Self-Driving-Car-Course---Applied-Deep-Learning\\Data\\IMG\\right_2019_11_30_13_10_08_609.jpg</td>\n",
              "      <td>0.0</td>\n",
              "      <td>0.0</td>\n",
              "      <td>0.0</td>\n",
              "      <td>0.000078</td>\n",
              "    </tr>\n",
              "    <tr>\n",
              "      <th>4</th>\n",
              "      <td>C:\\Laptop\\GitHub\\The-Complete-Self-Driving-Car-Course---Applied-Deep-Learning\\The-Complete-Self-Driving-Car-Course---Applied-Deep-Learning\\Data\\IMG\\center_2019_11_30_13_10_08_718.jpg</td>\n",
              "      <td>C:\\Laptop\\GitHub\\The-Complete-Self-Driving-Car-Course---Applied-Deep-Learning\\The-Complete-Self-Driving-Car-Course---Applied-Deep-Learning\\Data\\IMG\\left_2019_11_30_13_10_08_718.jpg</td>\n",
              "      <td>C:\\Laptop\\GitHub\\The-Complete-Self-Driving-Car-Course---Applied-Deep-Learning\\The-Complete-Self-Driving-Car-Course---Applied-Deep-Learning\\Data\\IMG\\right_2019_11_30_13_10_08_718.jpg</td>\n",
              "      <td>0.0</td>\n",
              "      <td>0.0</td>\n",
              "      <td>0.0</td>\n",
              "      <td>0.000082</td>\n",
              "    </tr>\n",
              "  </tbody>\n",
              "</table>\n",
              "</div>"
            ],
            "text/plain": [
              "                                                                                                                                                                                        0  ...         6\n",
              "0  C:\\Laptop\\GitHub\\The-Complete-Self-Driving-Car-Course---Applied-Deep-Learning\\The-Complete-Self-Driving-Car-Course---Applied-Deep-Learning\\Data\\IMG\\center_2019_11_30_13_10_08_292.jpg  ...  0.000081\n",
              "1  C:\\Laptop\\GitHub\\The-Complete-Self-Driving-Car-Course---Applied-Deep-Learning\\The-Complete-Self-Driving-Car-Course---Applied-Deep-Learning\\Data\\IMG\\center_2019_11_30_13_10_08_402.jpg  ...  0.000078\n",
              "2  C:\\Laptop\\GitHub\\The-Complete-Self-Driving-Car-Course---Applied-Deep-Learning\\The-Complete-Self-Driving-Car-Course---Applied-Deep-Learning\\Data\\IMG\\center_2019_11_30_13_10_08_508.jpg  ...  0.000078\n",
              "3  C:\\Laptop\\GitHub\\The-Complete-Self-Driving-Car-Course---Applied-Deep-Learning\\The-Complete-Self-Driving-Car-Course---Applied-Deep-Learning\\Data\\IMG\\center_2019_11_30_13_10_08_609.jpg  ...  0.000078\n",
              "4  C:\\Laptop\\GitHub\\The-Complete-Self-Driving-Car-Course---Applied-Deep-Learning\\The-Complete-Self-Driving-Car-Course---Applied-Deep-Learning\\Data\\IMG\\center_2019_11_30_13_10_08_718.jpg  ...  0.000082\n",
              "\n",
              "[5 rows x 7 columns]"
            ]
          },
          "metadata": {
            "tags": []
          },
          "execution_count": 86
        }
      ]
    },
    {
      "cell_type": "code",
      "metadata": {
        "id": "SdEHN1L7TyZM",
        "colab_type": "code",
        "colab": {
          "base_uri": "https://localhost:8080/",
          "height": 479
        },
        "outputId": "b48010bc-aefc-4681-94f6-25580716c53c"
      },
      "source": [
        "columns = ['center', 'left', 'right', 'steering', 'throttle', 'reverse', 'speed']\n",
        "df_data = pd.read_csv(train_dir, names = columns)\n",
        "df_data.head()"
      ],
      "execution_count": 87,
      "outputs": [
        {
          "output_type": "execute_result",
          "data": {
            "text/html": [
              "<div>\n",
              "<style scoped>\n",
              "    .dataframe tbody tr th:only-of-type {\n",
              "        vertical-align: middle;\n",
              "    }\n",
              "\n",
              "    .dataframe tbody tr th {\n",
              "        vertical-align: top;\n",
              "    }\n",
              "\n",
              "    .dataframe thead th {\n",
              "        text-align: right;\n",
              "    }\n",
              "</style>\n",
              "<table border=\"1\" class=\"dataframe\">\n",
              "  <thead>\n",
              "    <tr style=\"text-align: right;\">\n",
              "      <th></th>\n",
              "      <th>center</th>\n",
              "      <th>left</th>\n",
              "      <th>right</th>\n",
              "      <th>steering</th>\n",
              "      <th>throttle</th>\n",
              "      <th>reverse</th>\n",
              "      <th>speed</th>\n",
              "    </tr>\n",
              "  </thead>\n",
              "  <tbody>\n",
              "    <tr>\n",
              "      <th>0</th>\n",
              "      <td>C:\\Laptop\\GitHub\\The-Complete-Self-Driving-Car-Course---Applied-Deep-Learning\\The-Complete-Self-Driving-Car-Course---Applied-Deep-Learning\\Data\\IMG\\center_2019_11_30_13_10_08_292.jpg</td>\n",
              "      <td>C:\\Laptop\\GitHub\\The-Complete-Self-Driving-Car-Course---Applied-Deep-Learning\\The-Complete-Self-Driving-Car-Course---Applied-Deep-Learning\\Data\\IMG\\left_2019_11_30_13_10_08_292.jpg</td>\n",
              "      <td>C:\\Laptop\\GitHub\\The-Complete-Self-Driving-Car-Course---Applied-Deep-Learning\\The-Complete-Self-Driving-Car-Course---Applied-Deep-Learning\\Data\\IMG\\right_2019_11_30_13_10_08_292.jpg</td>\n",
              "      <td>0.0</td>\n",
              "      <td>0.0</td>\n",
              "      <td>0.0</td>\n",
              "      <td>0.000081</td>\n",
              "    </tr>\n",
              "    <tr>\n",
              "      <th>1</th>\n",
              "      <td>C:\\Laptop\\GitHub\\The-Complete-Self-Driving-Car-Course---Applied-Deep-Learning\\The-Complete-Self-Driving-Car-Course---Applied-Deep-Learning\\Data\\IMG\\center_2019_11_30_13_10_08_402.jpg</td>\n",
              "      <td>C:\\Laptop\\GitHub\\The-Complete-Self-Driving-Car-Course---Applied-Deep-Learning\\The-Complete-Self-Driving-Car-Course---Applied-Deep-Learning\\Data\\IMG\\left_2019_11_30_13_10_08_402.jpg</td>\n",
              "      <td>C:\\Laptop\\GitHub\\The-Complete-Self-Driving-Car-Course---Applied-Deep-Learning\\The-Complete-Self-Driving-Car-Course---Applied-Deep-Learning\\Data\\IMG\\right_2019_11_30_13_10_08_402.jpg</td>\n",
              "      <td>0.0</td>\n",
              "      <td>0.0</td>\n",
              "      <td>0.0</td>\n",
              "      <td>0.000078</td>\n",
              "    </tr>\n",
              "    <tr>\n",
              "      <th>2</th>\n",
              "      <td>C:\\Laptop\\GitHub\\The-Complete-Self-Driving-Car-Course---Applied-Deep-Learning\\The-Complete-Self-Driving-Car-Course---Applied-Deep-Learning\\Data\\IMG\\center_2019_11_30_13_10_08_508.jpg</td>\n",
              "      <td>C:\\Laptop\\GitHub\\The-Complete-Self-Driving-Car-Course---Applied-Deep-Learning\\The-Complete-Self-Driving-Car-Course---Applied-Deep-Learning\\Data\\IMG\\left_2019_11_30_13_10_08_508.jpg</td>\n",
              "      <td>C:\\Laptop\\GitHub\\The-Complete-Self-Driving-Car-Course---Applied-Deep-Learning\\The-Complete-Self-Driving-Car-Course---Applied-Deep-Learning\\Data\\IMG\\right_2019_11_30_13_10_08_508.jpg</td>\n",
              "      <td>0.0</td>\n",
              "      <td>0.0</td>\n",
              "      <td>0.0</td>\n",
              "      <td>0.000078</td>\n",
              "    </tr>\n",
              "    <tr>\n",
              "      <th>3</th>\n",
              "      <td>C:\\Laptop\\GitHub\\The-Complete-Self-Driving-Car-Course---Applied-Deep-Learning\\The-Complete-Self-Driving-Car-Course---Applied-Deep-Learning\\Data\\IMG\\center_2019_11_30_13_10_08_609.jpg</td>\n",
              "      <td>C:\\Laptop\\GitHub\\The-Complete-Self-Driving-Car-Course---Applied-Deep-Learning\\The-Complete-Self-Driving-Car-Course---Applied-Deep-Learning\\Data\\IMG\\left_2019_11_30_13_10_08_609.jpg</td>\n",
              "      <td>C:\\Laptop\\GitHub\\The-Complete-Self-Driving-Car-Course---Applied-Deep-Learning\\The-Complete-Self-Driving-Car-Course---Applied-Deep-Learning\\Data\\IMG\\right_2019_11_30_13_10_08_609.jpg</td>\n",
              "      <td>0.0</td>\n",
              "      <td>0.0</td>\n",
              "      <td>0.0</td>\n",
              "      <td>0.000078</td>\n",
              "    </tr>\n",
              "    <tr>\n",
              "      <th>4</th>\n",
              "      <td>C:\\Laptop\\GitHub\\The-Complete-Self-Driving-Car-Course---Applied-Deep-Learning\\The-Complete-Self-Driving-Car-Course---Applied-Deep-Learning\\Data\\IMG\\center_2019_11_30_13_10_08_718.jpg</td>\n",
              "      <td>C:\\Laptop\\GitHub\\The-Complete-Self-Driving-Car-Course---Applied-Deep-Learning\\The-Complete-Self-Driving-Car-Course---Applied-Deep-Learning\\Data\\IMG\\left_2019_11_30_13_10_08_718.jpg</td>\n",
              "      <td>C:\\Laptop\\GitHub\\The-Complete-Self-Driving-Car-Course---Applied-Deep-Learning\\The-Complete-Self-Driving-Car-Course---Applied-Deep-Learning\\Data\\IMG\\right_2019_11_30_13_10_08_718.jpg</td>\n",
              "      <td>0.0</td>\n",
              "      <td>0.0</td>\n",
              "      <td>0.0</td>\n",
              "      <td>0.000082</td>\n",
              "    </tr>\n",
              "  </tbody>\n",
              "</table>\n",
              "</div>"
            ],
            "text/plain": [
              "                                                                                                                                                                                   center  ...     speed\n",
              "0  C:\\Laptop\\GitHub\\The-Complete-Self-Driving-Car-Course---Applied-Deep-Learning\\The-Complete-Self-Driving-Car-Course---Applied-Deep-Learning\\Data\\IMG\\center_2019_11_30_13_10_08_292.jpg  ...  0.000081\n",
              "1  C:\\Laptop\\GitHub\\The-Complete-Self-Driving-Car-Course---Applied-Deep-Learning\\The-Complete-Self-Driving-Car-Course---Applied-Deep-Learning\\Data\\IMG\\center_2019_11_30_13_10_08_402.jpg  ...  0.000078\n",
              "2  C:\\Laptop\\GitHub\\The-Complete-Self-Driving-Car-Course---Applied-Deep-Learning\\The-Complete-Self-Driving-Car-Course---Applied-Deep-Learning\\Data\\IMG\\center_2019_11_30_13_10_08_508.jpg  ...  0.000078\n",
              "3  C:\\Laptop\\GitHub\\The-Complete-Self-Driving-Car-Course---Applied-Deep-Learning\\The-Complete-Self-Driving-Car-Course---Applied-Deep-Learning\\Data\\IMG\\center_2019_11_30_13_10_08_609.jpg  ...  0.000078\n",
              "4  C:\\Laptop\\GitHub\\The-Complete-Self-Driving-Car-Course---Applied-Deep-Learning\\The-Complete-Self-Driving-Car-Course---Applied-Deep-Learning\\Data\\IMG\\center_2019_11_30_13_10_08_718.jpg  ...  0.000082\n",
              "\n",
              "[5 rows x 7 columns]"
            ]
          },
          "metadata": {
            "tags": []
          },
          "execution_count": 87
        }
      ]
    },
    {
      "cell_type": "code",
      "metadata": {
        "id": "fudt7iX7Y0n3",
        "colab_type": "code",
        "colab": {
          "base_uri": "https://localhost:8080/",
          "height": 204
        },
        "outputId": "7b5038f5-c37f-4935-d6f5-f25f9225fb3f"
      },
      "source": [
        "def path_split(path):\n",
        "  head, tail = ntpath.split(path)\n",
        "  return tail\n",
        "\n",
        "df_data['center'] = df_data['center'].apply(path_split)\n",
        "df_data['left'] = df_data['left'].apply(path_split)\n",
        "df_data['right'] = df_data['right'].apply(path_split)\n",
        "\n",
        "df_data.head()"
      ],
      "execution_count": 88,
      "outputs": [
        {
          "output_type": "execute_result",
          "data": {
            "text/html": [
              "<div>\n",
              "<style scoped>\n",
              "    .dataframe tbody tr th:only-of-type {\n",
              "        vertical-align: middle;\n",
              "    }\n",
              "\n",
              "    .dataframe tbody tr th {\n",
              "        vertical-align: top;\n",
              "    }\n",
              "\n",
              "    .dataframe thead th {\n",
              "        text-align: right;\n",
              "    }\n",
              "</style>\n",
              "<table border=\"1\" class=\"dataframe\">\n",
              "  <thead>\n",
              "    <tr style=\"text-align: right;\">\n",
              "      <th></th>\n",
              "      <th>center</th>\n",
              "      <th>left</th>\n",
              "      <th>right</th>\n",
              "      <th>steering</th>\n",
              "      <th>throttle</th>\n",
              "      <th>reverse</th>\n",
              "      <th>speed</th>\n",
              "    </tr>\n",
              "  </thead>\n",
              "  <tbody>\n",
              "    <tr>\n",
              "      <th>0</th>\n",
              "      <td>center_2019_11_30_13_10_08_292.jpg</td>\n",
              "      <td>left_2019_11_30_13_10_08_292.jpg</td>\n",
              "      <td>right_2019_11_30_13_10_08_292.jpg</td>\n",
              "      <td>0.0</td>\n",
              "      <td>0.0</td>\n",
              "      <td>0.0</td>\n",
              "      <td>0.000081</td>\n",
              "    </tr>\n",
              "    <tr>\n",
              "      <th>1</th>\n",
              "      <td>center_2019_11_30_13_10_08_402.jpg</td>\n",
              "      <td>left_2019_11_30_13_10_08_402.jpg</td>\n",
              "      <td>right_2019_11_30_13_10_08_402.jpg</td>\n",
              "      <td>0.0</td>\n",
              "      <td>0.0</td>\n",
              "      <td>0.0</td>\n",
              "      <td>0.000078</td>\n",
              "    </tr>\n",
              "    <tr>\n",
              "      <th>2</th>\n",
              "      <td>center_2019_11_30_13_10_08_508.jpg</td>\n",
              "      <td>left_2019_11_30_13_10_08_508.jpg</td>\n",
              "      <td>right_2019_11_30_13_10_08_508.jpg</td>\n",
              "      <td>0.0</td>\n",
              "      <td>0.0</td>\n",
              "      <td>0.0</td>\n",
              "      <td>0.000078</td>\n",
              "    </tr>\n",
              "    <tr>\n",
              "      <th>3</th>\n",
              "      <td>center_2019_11_30_13_10_08_609.jpg</td>\n",
              "      <td>left_2019_11_30_13_10_08_609.jpg</td>\n",
              "      <td>right_2019_11_30_13_10_08_609.jpg</td>\n",
              "      <td>0.0</td>\n",
              "      <td>0.0</td>\n",
              "      <td>0.0</td>\n",
              "      <td>0.000078</td>\n",
              "    </tr>\n",
              "    <tr>\n",
              "      <th>4</th>\n",
              "      <td>center_2019_11_30_13_10_08_718.jpg</td>\n",
              "      <td>left_2019_11_30_13_10_08_718.jpg</td>\n",
              "      <td>right_2019_11_30_13_10_08_718.jpg</td>\n",
              "      <td>0.0</td>\n",
              "      <td>0.0</td>\n",
              "      <td>0.0</td>\n",
              "      <td>0.000082</td>\n",
              "    </tr>\n",
              "  </tbody>\n",
              "</table>\n",
              "</div>"
            ],
            "text/plain": [
              "                               center  ...     speed\n",
              "0  center_2019_11_30_13_10_08_292.jpg  ...  0.000081\n",
              "1  center_2019_11_30_13_10_08_402.jpg  ...  0.000078\n",
              "2  center_2019_11_30_13_10_08_508.jpg  ...  0.000078\n",
              "3  center_2019_11_30_13_10_08_609.jpg  ...  0.000078\n",
              "4  center_2019_11_30_13_10_08_718.jpg  ...  0.000082\n",
              "\n",
              "[5 rows x 7 columns]"
            ]
          },
          "metadata": {
            "tags": []
          },
          "execution_count": 88
        }
      ]
    },
    {
      "cell_type": "code",
      "metadata": {
        "id": "SIJBMV5IdRlu",
        "colab_type": "code",
        "colab": {
          "base_uri": "https://localhost:8080/",
          "height": 350
        },
        "outputId": "f93ed2a6-1578-4bd9-b330-6756cc177dab"
      },
      "source": [
        "num_bins = 25\n",
        "hist, bins = np.histogram(df_data['steering'], num_bins)\n",
        "print(hist, bins)\n",
        "center = (bins[:-1]+ bins[1:]) * 0.5\n",
        "plt.bar(center, hist, width=0.05)"
      ],
      "execution_count": 99,
      "outputs": [
        {
          "output_type": "stream",
          "text": [
            "[ 130    6    1   17   74   17    3   23  323   49    2   63 3612   42\n",
            "    0   19  163   34    1   16   42   20    1    0   81] [-1.   -0.92 -0.84 -0.76 -0.68 -0.6  -0.52 -0.44 -0.36 -0.28 -0.2  -0.12\n",
            " -0.04  0.04  0.12  0.2   0.28  0.36  0.44  0.52  0.6   0.68  0.76  0.84\n",
            "  0.92  1.  ]\n"
          ],
          "name": "stdout"
        },
        {
          "output_type": "execute_result",
          "data": {
            "text/plain": [
              "<BarContainer object of 25 artists>"
            ]
          },
          "metadata": {
            "tags": []
          },
          "execution_count": 99
        },
        {
          "output_type": "display_data",
          "data": {
            "image/png": "[encoded data removed]",
            "text/plain": [
              "<Figure size 432x288 with 1 Axes>"
            ]
          },
          "metadata": {
            "tags": []
          }
        }
      ]
    }
  ]
}