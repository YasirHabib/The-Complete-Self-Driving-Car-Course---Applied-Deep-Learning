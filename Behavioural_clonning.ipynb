{
  "nbformat": 4,
  "nbformat_minor": 0,
  "metadata": {
    "colab": {
      "name": "Behavioural clonning.ipynb",
      "provenance": [],
      "collapsed_sections": []
    },
    "kernelspec": {
      "name": "python3",
      "display_name": "Python 3"
    },
    "accelerator": "GPU"
  },
  "cells": [
    {
      "cell_type": "code",
      "metadata": {
        "id": "_nX32j5bGdqt",
        "colab_type": "code",
        "colab": {
          "base_uri": "https://localhost:8080/",
          "height": 34
        },
        "outputId": "b4771153-8e59-4e96-aa99-4e4e2131f89b"
      },
      "source": [
        "!git clone https://github.com/YasirHabib/The-Complete-Self-Driving-Car-Course---Applied-Deep-Learning.git"
      ],
      "execution_count": 144,
      "outputs": [
        {
          "output_type": "stream",
          "text": [
            "fatal: destination path 'The-Complete-Self-Driving-Car-Course---Applied-Deep-Learning' already exists and is not an empty directory.\n"
          ],
          "name": "stdout"
        }
      ]
    },
    {
      "cell_type": "code",
      "metadata": {
        "id": "eAG5NrHjHat8",
        "colab_type": "code",
        "colab": {
          "base_uri": "https://localhost:8080/",
          "height": 34
        },
        "outputId": "6d26e687-27ab-4a36-b0e9-601ab245bcd9"
      },
      "source": [
        "!ls The-Complete-Self-Driving-Car-Course---Applied-Deep-Learning/Data"
      ],
      "execution_count": 145,
      "outputs": [
        {
          "output_type": "stream",
          "text": [
            "driving_log.csv  IMG\n"
          ],
          "name": "stdout"
        }
      ]
    },
    {
      "cell_type": "code",
      "metadata": {
        "id": "XVz7UDM0J2Xv",
        "colab_type": "code",
        "colab": {}
      },
      "source": [
        "import os\n",
        "import numpy as np\n",
        "import matplotlib.pyplot as plt\n",
        "import pandas as pd\n",
        "import cv2\n",
        "import ntpath\n",
        "from sklearn.utils import shuffle\n",
        "from sklearn.model_selection import train_test_split"
      ],
      "execution_count": 0,
      "outputs": []
    },
    {
      "cell_type": "code",
      "metadata": {
        "id": "mwFp43FvLnli",
        "colab_type": "code",
        "colab": {}
      },
      "source": [
        "from keras.models import Sequential\n",
        "from keras.layers import Conv2D, MaxPooling2D, Flatten, Dense, Dropout"
      ],
      "execution_count": 0,
      "outputs": []
    },
    {
      "cell_type": "code",
      "metadata": {
        "id": "6E6vq7__P5qj",
        "colab_type": "code",
        "colab": {}
      },
      "source": [
        "path = 'The-Complete-Self-Driving-Car-Course---Applied-Deep-Learning/Data'\n",
        "train_dir = os.path.join(path, 'driving_log.csv')"
      ],
      "execution_count": 0,
      "outputs": []
    },
    {
      "cell_type": "code",
      "metadata": {
        "id": "2nXePL3_S3VY",
        "colab_type": "code",
        "colab": {
          "base_uri": "https://localhost:8080/",
          "height": 204
        },
        "outputId": "4ea11fe3-aec6-400f-e4b1-3a38d2b09e37"
      },
      "source": [
        "df_data = pd.read_csv(train_dir, header = None)\n",
        "df_data.head()"
      ],
      "execution_count": 149,
      "outputs": [
        {
          "output_type": "execute_result",
          "data": {
            "text/html": [
              "<div>\n",
              "<style scoped>\n",
              "    .dataframe tbody tr th:only-of-type {\n",
              "        vertical-align: middle;\n",
              "    }\n",
              "\n",
              "    .dataframe tbody tr th {\n",
              "        vertical-align: top;\n",
              "    }\n",
              "\n",
              "    .dataframe thead th {\n",
              "        text-align: right;\n",
              "    }\n",
              "</style>\n",
              "<table border=\"1\" class=\"dataframe\">\n",
              "  <thead>\n",
              "    <tr style=\"text-align: right;\">\n",
              "      <th></th>\n",
              "      <th>0</th>\n",
              "      <th>1</th>\n",
              "      <th>2</th>\n",
              "      <th>3</th>\n",
              "      <th>4</th>\n",
              "      <th>5</th>\n",
              "      <th>6</th>\n",
              "    </tr>\n",
              "  </thead>\n",
              "  <tbody>\n",
              "    <tr>\n",
              "      <th>0</th>\n",
              "      <td>C:\\Laptop\\GitHub\\The-Complete-Self-Driving-Car...</td>\n",
              "      <td>C:\\Laptop\\GitHub\\The-Complete-Self-Driving-Ca...</td>\n",
              "      <td>C:\\Laptop\\GitHub\\The-Complete-Self-Driving-Ca...</td>\n",
              "      <td>0.0</td>\n",
              "      <td>0.0</td>\n",
              "      <td>0.0</td>\n",
              "      <td>0.000081</td>\n",
              "    </tr>\n",
              "    <tr>\n",
              "      <th>1</th>\n",
              "      <td>C:\\Laptop\\GitHub\\The-Complete-Self-Driving-Car...</td>\n",
              "      <td>C:\\Laptop\\GitHub\\The-Complete-Self-Driving-Ca...</td>\n",
              "      <td>C:\\Laptop\\GitHub\\The-Complete-Self-Driving-Ca...</td>\n",
              "      <td>0.0</td>\n",
              "      <td>0.0</td>\n",
              "      <td>0.0</td>\n",
              "      <td>0.000078</td>\n",
              "    </tr>\n",
              "    <tr>\n",
              "      <th>2</th>\n",
              "      <td>C:\\Laptop\\GitHub\\The-Complete-Self-Driving-Car...</td>\n",
              "      <td>C:\\Laptop\\GitHub\\The-Complete-Self-Driving-Ca...</td>\n",
              "      <td>C:\\Laptop\\GitHub\\The-Complete-Self-Driving-Ca...</td>\n",
              "      <td>0.0</td>\n",
              "      <td>0.0</td>\n",
              "      <td>0.0</td>\n",
              "      <td>0.000078</td>\n",
              "    </tr>\n",
              "    <tr>\n",
              "      <th>3</th>\n",
              "      <td>C:\\Laptop\\GitHub\\The-Complete-Self-Driving-Car...</td>\n",
              "      <td>C:\\Laptop\\GitHub\\The-Complete-Self-Driving-Ca...</td>\n",
              "      <td>C:\\Laptop\\GitHub\\The-Complete-Self-Driving-Ca...</td>\n",
              "      <td>0.0</td>\n",
              "      <td>0.0</td>\n",
              "      <td>0.0</td>\n",
              "      <td>0.000078</td>\n",
              "    </tr>\n",
              "    <tr>\n",
              "      <th>4</th>\n",
              "      <td>C:\\Laptop\\GitHub\\The-Complete-Self-Driving-Car...</td>\n",
              "      <td>C:\\Laptop\\GitHub\\The-Complete-Self-Driving-Ca...</td>\n",
              "      <td>C:\\Laptop\\GitHub\\The-Complete-Self-Driving-Ca...</td>\n",
              "      <td>0.0</td>\n",
              "      <td>0.0</td>\n",
              "      <td>0.0</td>\n",
              "      <td>0.000082</td>\n",
              "    </tr>\n",
              "  </tbody>\n",
              "</table>\n",
              "</div>"
            ],
            "text/plain": [
              "                                                   0  ...         6\n",
              "0  C:\\Laptop\\GitHub\\The-Complete-Self-Driving-Car...  ...  0.000081\n",
              "1  C:\\Laptop\\GitHub\\The-Complete-Self-Driving-Car...  ...  0.000078\n",
              "2  C:\\Laptop\\GitHub\\The-Complete-Self-Driving-Car...  ...  0.000078\n",
              "3  C:\\Laptop\\GitHub\\The-Complete-Self-Driving-Car...  ...  0.000078\n",
              "4  C:\\Laptop\\GitHub\\The-Complete-Self-Driving-Car...  ...  0.000082\n",
              "\n",
              "[5 rows x 7 columns]"
            ]
          },
          "metadata": {
            "tags": []
          },
          "execution_count": 149
        }
      ]
    },
    {
      "cell_type": "code",
      "metadata": {
        "id": "SdEHN1L7TyZM",
        "colab_type": "code",
        "colab": {
          "base_uri": "https://localhost:8080/",
          "height": 289
        },
        "outputId": "59299516-2bfe-42ff-b77c-f34e7fd17848"
      },
      "source": [
        "columns = ['center', 'left', 'right', 'steering', 'throttle', 'reverse', 'speed']\n",
        "df_data = pd.read_csv(train_dir, names = columns)\n",
        "df_data.head()"
      ],
      "execution_count": 150,
      "outputs": [
        {
          "output_type": "execute_result",
          "data": {
            "text/html": [
              "<div>\n",
              "<style scoped>\n",
              "    .dataframe tbody tr th:only-of-type {\n",
              "        vertical-align: middle;\n",
              "    }\n",
              "\n",
              "    .dataframe tbody tr th {\n",
              "        vertical-align: top;\n",
              "    }\n",
              "\n",
              "    .dataframe thead th {\n",
              "        text-align: right;\n",
              "    }\n",
              "</style>\n",
              "<table border=\"1\" class=\"dataframe\">\n",
              "  <thead>\n",
              "    <tr style=\"text-align: right;\">\n",
              "      <th></th>\n",
              "      <th>center</th>\n",
              "      <th>left</th>\n",
              "      <th>right</th>\n",
              "      <th>steering</th>\n",
              "      <th>throttle</th>\n",
              "      <th>reverse</th>\n",
              "      <th>speed</th>\n",
              "    </tr>\n",
              "  </thead>\n",
              "  <tbody>\n",
              "    <tr>\n",
              "      <th>0</th>\n",
              "      <td>C:\\Laptop\\GitHub\\The-Complete-Self-Driving-Car...</td>\n",
              "      <td>C:\\Laptop\\GitHub\\The-Complete-Self-Driving-Ca...</td>\n",
              "      <td>C:\\Laptop\\GitHub\\The-Complete-Self-Driving-Ca...</td>\n",
              "      <td>0.0</td>\n",
              "      <td>0.0</td>\n",
              "      <td>0.0</td>\n",
              "      <td>0.000081</td>\n",
              "    </tr>\n",
              "    <tr>\n",
              "      <th>1</th>\n",
              "      <td>C:\\Laptop\\GitHub\\The-Complete-Self-Driving-Car...</td>\n",
              "      <td>C:\\Laptop\\GitHub\\The-Complete-Self-Driving-Ca...</td>\n",
              "      <td>C:\\Laptop\\GitHub\\The-Complete-Self-Driving-Ca...</td>\n",
              "      <td>0.0</td>\n",
              "      <td>0.0</td>\n",
              "      <td>0.0</td>\n",
              "      <td>0.000078</td>\n",
              "    </tr>\n",
              "    <tr>\n",
              "      <th>2</th>\n",
              "      <td>C:\\Laptop\\GitHub\\The-Complete-Self-Driving-Car...</td>\n",
              "      <td>C:\\Laptop\\GitHub\\The-Complete-Self-Driving-Ca...</td>\n",
              "      <td>C:\\Laptop\\GitHub\\The-Complete-Self-Driving-Ca...</td>\n",
              "      <td>0.0</td>\n",
              "      <td>0.0</td>\n",
              "      <td>0.0</td>\n",
              "      <td>0.000078</td>\n",
              "    </tr>\n",
              "    <tr>\n",
              "      <th>3</th>\n",
              "      <td>C:\\Laptop\\GitHub\\The-Complete-Self-Driving-Car...</td>\n",
              "      <td>C:\\Laptop\\GitHub\\The-Complete-Self-Driving-Ca...</td>\n",
              "      <td>C:\\Laptop\\GitHub\\The-Complete-Self-Driving-Ca...</td>\n",
              "      <td>0.0</td>\n",
              "      <td>0.0</td>\n",
              "      <td>0.0</td>\n",
              "      <td>0.000078</td>\n",
              "    </tr>\n",
              "    <tr>\n",
              "      <th>4</th>\n",
              "      <td>C:\\Laptop\\GitHub\\The-Complete-Self-Driving-Car...</td>\n",
              "      <td>C:\\Laptop\\GitHub\\The-Complete-Self-Driving-Ca...</td>\n",
              "      <td>C:\\Laptop\\GitHub\\The-Complete-Self-Driving-Ca...</td>\n",
              "      <td>0.0</td>\n",
              "      <td>0.0</td>\n",
              "      <td>0.0</td>\n",
              "      <td>0.000082</td>\n",
              "    </tr>\n",
              "  </tbody>\n",
              "</table>\n",
              "</div>"
            ],
            "text/plain": [
              "                                              center  ...     speed\n",
              "0  C:\\Laptop\\GitHub\\The-Complete-Self-Driving-Car...  ...  0.000081\n",
              "1  C:\\Laptop\\GitHub\\The-Complete-Self-Driving-Car...  ...  0.000078\n",
              "2  C:\\Laptop\\GitHub\\The-Complete-Self-Driving-Car...  ...  0.000078\n",
              "3  C:\\Laptop\\GitHub\\The-Complete-Self-Driving-Car...  ...  0.000078\n",
              "4  C:\\Laptop\\GitHub\\The-Complete-Self-Driving-Car...  ...  0.000082\n",
              "\n",
              "[5 rows x 7 columns]"
            ]
          },
          "metadata": {
            "tags": []
          },
          "execution_count": 150
        }
      ]
    },
    {
      "cell_type": "code",
      "metadata": {
        "id": "fudt7iX7Y0n3",
        "colab_type": "code",
        "colab": {
          "base_uri": "https://localhost:8080/",
          "height": 204
        },
        "outputId": "35b288c5-294f-4dea-ad7c-3d997173fe60"
      },
      "source": [
        "def path_split(path):\n",
        "  head, tail = ntpath.split(path)\n",
        "  return tail\n",
        "\n",
        "df_data['center'] = df_data['center'].apply(path_split)\n",
        "df_data['left'] = df_data['left'].apply(path_split)\n",
        "df_data['right'] = df_data['right'].apply(path_split)\n",
        "\n",
        "df_data.head()"
      ],
      "execution_count": 151,
      "outputs": [
        {
          "output_type": "execute_result",
          "data": {
            "text/html": [
              "<div>\n",
              "<style scoped>\n",
              "    .dataframe tbody tr th:only-of-type {\n",
              "        vertical-align: middle;\n",
              "    }\n",
              "\n",
              "    .dataframe tbody tr th {\n",
              "        vertical-align: top;\n",
              "    }\n",
              "\n",
              "    .dataframe thead th {\n",
              "        text-align: right;\n",
              "    }\n",
              "</style>\n",
              "<table border=\"1\" class=\"dataframe\">\n",
              "  <thead>\n",
              "    <tr style=\"text-align: right;\">\n",
              "      <th></th>\n",
              "      <th>center</th>\n",
              "      <th>left</th>\n",
              "      <th>right</th>\n",
              "      <th>steering</th>\n",
              "      <th>throttle</th>\n",
              "      <th>reverse</th>\n",
              "      <th>speed</th>\n",
              "    </tr>\n",
              "  </thead>\n",
              "  <tbody>\n",
              "    <tr>\n",
              "      <th>0</th>\n",
              "      <td>center_2019_11_30_13_10_08_292.jpg</td>\n",
              "      <td>left_2019_11_30_13_10_08_292.jpg</td>\n",
              "      <td>right_2019_11_30_13_10_08_292.jpg</td>\n",
              "      <td>0.0</td>\n",
              "      <td>0.0</td>\n",
              "      <td>0.0</td>\n",
              "      <td>0.000081</td>\n",
              "    </tr>\n",
              "    <tr>\n",
              "      <th>1</th>\n",
              "      <td>center_2019_11_30_13_10_08_402.jpg</td>\n",
              "      <td>left_2019_11_30_13_10_08_402.jpg</td>\n",
              "      <td>right_2019_11_30_13_10_08_402.jpg</td>\n",
              "      <td>0.0</td>\n",
              "      <td>0.0</td>\n",
              "      <td>0.0</td>\n",
              "      <td>0.000078</td>\n",
              "    </tr>\n",
              "    <tr>\n",
              "      <th>2</th>\n",
              "      <td>center_2019_11_30_13_10_08_508.jpg</td>\n",
              "      <td>left_2019_11_30_13_10_08_508.jpg</td>\n",
              "      <td>right_2019_11_30_13_10_08_508.jpg</td>\n",
              "      <td>0.0</td>\n",
              "      <td>0.0</td>\n",
              "      <td>0.0</td>\n",
              "      <td>0.000078</td>\n",
              "    </tr>\n",
              "    <tr>\n",
              "      <th>3</th>\n",
              "      <td>center_2019_11_30_13_10_08_609.jpg</td>\n",
              "      <td>left_2019_11_30_13_10_08_609.jpg</td>\n",
              "      <td>right_2019_11_30_13_10_08_609.jpg</td>\n",
              "      <td>0.0</td>\n",
              "      <td>0.0</td>\n",
              "      <td>0.0</td>\n",
              "      <td>0.000078</td>\n",
              "    </tr>\n",
              "    <tr>\n",
              "      <th>4</th>\n",
              "      <td>center_2019_11_30_13_10_08_718.jpg</td>\n",
              "      <td>left_2019_11_30_13_10_08_718.jpg</td>\n",
              "      <td>right_2019_11_30_13_10_08_718.jpg</td>\n",
              "      <td>0.0</td>\n",
              "      <td>0.0</td>\n",
              "      <td>0.0</td>\n",
              "      <td>0.000082</td>\n",
              "    </tr>\n",
              "  </tbody>\n",
              "</table>\n",
              "</div>"
            ],
            "text/plain": [
              "                               center  ...     speed\n",
              "0  center_2019_11_30_13_10_08_292.jpg  ...  0.000081\n",
              "1  center_2019_11_30_13_10_08_402.jpg  ...  0.000078\n",
              "2  center_2019_11_30_13_10_08_508.jpg  ...  0.000078\n",
              "3  center_2019_11_30_13_10_08_609.jpg  ...  0.000078\n",
              "4  center_2019_11_30_13_10_08_718.jpg  ...  0.000082\n",
              "\n",
              "[5 rows x 7 columns]"
            ]
          },
          "metadata": {
            "tags": []
          },
          "execution_count": 151
        }
      ]
    },
    {
      "cell_type": "code",
      "metadata": {
        "id": "SIJBMV5IdRlu",
        "colab_type": "code",
        "colab": {
          "base_uri": "https://localhost:8080/",
          "height": 418
        },
        "outputId": "3e93645f-a6a4-4503-abab-1ea8010cd7ac"
      },
      "source": [
        "num_bins = 25\n",
        "hist, bins = np.histogram(df_data['steering'], num_bins)   # bins is the interval across which the data is distributed\n",
        "print(hist)\n",
        "print(bins)\n",
        "center = (bins[:-1] + bins[1:]) * 0.5\n",
        "print(center)\n",
        "plt.bar(center, hist, width=0.05)\n",
        "samples_per_bin = 400\n",
        "plt.plot((np.min(df_data['steering']), np.max(df_data['steering'])), (samples_per_bin, samples_per_bin))"
      ],
      "execution_count": 152,
      "outputs": [
        {
          "output_type": "stream",
          "text": [
            "[ 130    6    1   17   74   17    3   23  323   49    2   63 3612   42\n",
            "    0   19  163   34    1   16   42   20    1    0   81]\n",
            "[-1.   -0.92 -0.84 -0.76 -0.68 -0.6  -0.52 -0.44 -0.36 -0.28 -0.2  -0.12\n",
            " -0.04  0.04  0.12  0.2   0.28  0.36  0.44  0.52  0.6   0.68  0.76  0.84\n",
            "  0.92  1.  ]\n",
            "[-0.96 -0.88 -0.8  -0.72 -0.64 -0.56 -0.48 -0.4  -0.32 -0.24 -0.16 -0.08\n",
            "  0.    0.08  0.16  0.24  0.32  0.4   0.48  0.56  0.64  0.72  0.8   0.88\n",
            "  0.96]\n"
          ],
          "name": "stdout"
        },
        {
          "output_type": "execute_result",
          "data": {
            "text/plain": [
              "[<matplotlib.lines.Line2D at 0x7f6940078320>]"
            ]
          },
          "metadata": {
            "tags": []
          },
          "execution_count": 152
        },
        {
          "output_type": "display_data",
          "data": {
            "image/png": "[encoded data removed]",
            "text/plain": [
              "<Figure size 432x288 with 1 Axes>"
            ]
          },
          "metadata": {
            "tags": []
          }
        }
      ]
    },
    {
      "cell_type": "code",
      "metadata": {
        "id": "QRdEl1op8fH4",
        "colab_type": "code",
        "colab": {
          "base_uri": "https://localhost:8080/",
          "height": 51
        },
        "outputId": "7ccf3da8-d122-449c-8fc4-bbf451dc8bfc"
      },
      "source": [
        "# print('total data:', len(df_data))      total data: 4739\n",
        "# print ('steering data:', len(df_data['steering']))        steering data: 4739\n",
        "\n",
        "remove_list = []\n",
        "for j in range(num_bins):\n",
        "  list_ = []\n",
        "  for i in range(len(df_data['steering'])):\n",
        "    if df_data['steering'][i] >= bins[j] and df_data['steering'][i] <= bins[j+1]:\n",
        "      list_.append(i)\n",
        "  list_ = shuffle(list_)\n",
        "  list_ = list_[samples_per_bin:]\n",
        "  # print(len(list_))  0 0 0 0 0 0 0 0 0 0 0 0 3212 0 0 0 0 0 0 0 0 0 0 0 0\n",
        "  remove_list.extend(list_)\n",
        "\n",
        "print('removed:', len(remove_list))        # 3612 - 400\n",
        "df_data.drop(df_data.index[remove_list], inplace=True)\n",
        "print('remaining:', len(df_data))"
      ],
      "execution_count": 153,
      "outputs": [
        {
          "output_type": "stream",
          "text": [
            "removed: 3212\n",
            "remaining: 1527\n"
          ],
          "name": "stdout"
        }
      ]
    },
    {
      "cell_type": "code",
      "metadata": {
        "id": "_lDov927bjFB",
        "colab_type": "code",
        "colab": {
          "base_uri": "https://localhost:8080/",
          "height": 316
        },
        "outputId": "7d2e7e33-0a7d-4c43-c19b-d1b2eef0f490"
      },
      "source": [
        "hist, _ = np.histogram(df_data['steering'], num_bins)\n",
        "print(hist)\n",
        "plt.bar(center, hist, width=0.05)\n",
        "plt.plot((np.min(df_data['steering']), np.max(df_data['steering'])), (samples_per_bin, samples_per_bin))"
      ],
      "execution_count": 154,
      "outputs": [
        {
          "output_type": "stream",
          "text": [
            "[130   6   1  17  74  17   3  23 323  49   2  63 400  42   0  19 163  34\n",
            "   1  16  42  20   1   0  81]\n"
          ],
          "name": "stdout"
        },
        {
          "output_type": "execute_result",
          "data": {
            "text/plain": [
              "[<matplotlib.lines.Line2D at 0x7f693fccacf8>]"
            ]
          },
          "metadata": {
            "tags": []
          },
          "execution_count": 154
        },
        {
          "output_type": "display_data",
          "data": {
            "image/png": "[encoded data removed]",
            "text/plain": [
              "<Figure size 432x288 with 1 Axes>"
            ]
          },
          "metadata": {
            "tags": []
          }
        }
      ]
    },
    {
      "cell_type": "code",
      "metadata": {
        "id": "27LyJZvooJT-",
        "colab_type": "code",
        "colab": {}
      },
      "source": [
        "# print(df_data.iloc[0])\n",
        "\n",
        "# center      center_2019_11_30_13_10_08_609.jpg\n",
        "# left          left_2019_11_30_13_10_08_609.jpg\n",
        "# right        right_2019_11_30_13_10_08_609.jpg\n",
        "# steering                                     0\n",
        "# throttle                                     0\n",
        "# reverse                                      0\n",
        "# speed                              7.83659e-05\n",
        "# Name: 3, dtype: object"
      ],
      "execution_count": 0,
      "outputs": []
    },
    {
      "cell_type": "code",
      "metadata": {
        "id": "n7Ys8lD2epsp",
        "colab_type": "code",
        "colab": {
          "base_uri": "https://localhost:8080/",
          "height": 332
        },
        "outputId": "ce497943-0a7d-46b2-f59d-8da91b2998ac"
      },
      "source": [
        "def load_img_steering(datadir, df):\n",
        "  image_path = []\n",
        "  steering = []\n",
        "  for i in range(len(df)):\n",
        "    # print(len(df))         # 1527\n",
        "    indexed_data = df.iloc[i]\n",
        "    center, left, right = indexed_data[0], indexed_data[1], indexed_data[2]\n",
        "    # print(center)             center_2019_11_30_13_10_08_826.jpg\n",
        "    image_path.append(os.path.join(datadir, center.strip()))\n",
        "    # print(image_path[0])      The-Complete-Self-Driving-Car-Course---Applied-Deep-Learning/Data/IMG/center_2019_11_30_13_10_08_826.jpg\n",
        "    steering.append(float(indexed_data[3]))\n",
        "    # # left image append\n",
        "    # image_path.append(os.path.join(datadir, left.strip()))\n",
        "    # steering.append(float(indexed_data[3])+0.15)\n",
        "    # # right image append\n",
        "    # image_path.append(os.path.join(datadir, right.strip()))\n",
        "    # steering.append(float(indexed_data[3])-0.15)\n",
        "  image_paths = np.asarray(image_path)\n",
        "  steerings = np.asarray(steering)\n",
        "  return image_paths, steerings\n",
        "\n",
        "image_paths, steerings = load_img_steering(path + '/IMG', df_data)\n",
        "X_train, X_valid, y_train, y_valid = train_test_split(image_paths, steerings, test_size=0.2, random_state=6)\n",
        "print('Training Samples: {}\\nValid Samples: {}'.format(len(X_train), len(X_valid)))\n",
        "fig, axes = plt.subplots(1, 2, figsize=(12, 4))\n",
        "axes[0].hist(y_train, bins=num_bins, width=0.05, color='blue')\n",
        "axes[0].set_title('Training set')\n",
        "axes[1].hist(y_valid, bins=num_bins, width=0.05, color='red')\n",
        "axes[1].set_title('Validation set')"
      ],
      "execution_count": 156,
      "outputs": [
        {
          "output_type": "stream",
          "text": [
            "Training Samples: 1221\n",
            "Valid Samples: 306\n"
          ],
          "name": "stdout"
        },
        {
          "output_type": "execute_result",
          "data": {
            "text/plain": [
              "Text(0.5, 1.0, 'Validation set')"
            ]
          },
          "metadata": {
            "tags": []
          },
          "execution_count": 156
        },
        {
          "output_type": "display_data",
          "data": {
            "image/png": "[encoded data removed]",
            "text/plain": [
              "<Figure size 864x288 with 2 Axes>"
            ]
          },
          "metadata": {
            "tags": []
          }
        }
      ]
    }
  ]
}