{
  "nbformat": 4,
  "nbformat_minor": 0,
  "metadata": {
    "colab": {
      "name": "load_breast_cancer_tf.ipynb",
      "provenance": [],
      "collapsed_sections": []
    },
    "kernelspec": {
      "name": "python3",
      "display_name": "Python 3"
    },
    "accelerator": "GPU"
  },
  "cells": [
    {
      "cell_type": "code",
      "metadata": {
        "id": "wxl_PGiQKnaF",
        "colab_type": "code",
        "outputId": "5280d0ae-4660-4e41-a36e-6d965d615769",
        "colab": {
          "base_uri": "https://localhost:8080/",
          "height": 119
        }
      },
      "source": [
        "# pip install tensorflow==2.0.0-beta1\n",
        "try:\n",
        "  %tensorflow_version 2.x  # Colab only.\n",
        "except Exception:\n",
        "  pass\n",
        "\n",
        "import tensorflow as tf\n",
        "print(tf.__version__)"
      ],
      "execution_count": 1,
      "outputs": [
        {
          "output_type": "stream",
          "text": [
            "`%tensorflow_version` only switches the major version: `1.x` or `2.x`.\n",
            "You set: `2.x  # Colab only.`. This will be interpreted as: `2.x`.\n",
            "\n",
            "\n",
            "TensorFlow 2.x selected.\n",
            "2.1.0-rc1\n"
          ],
          "name": "stdout"
        }
      ]
    },
    {
      "cell_type": "code",
      "metadata": {
        "id": "BlOMw0osg3SH",
        "colab_type": "code",
        "colab": {}
      },
      "source": [
        "import numpy as np\n",
        "import matplotlib.pyplot as plt\n",
        "from tensorflow.keras.models import Sequential, load_model\n",
        "from tensorflow.keras.layers import Dense "
      ],
      "execution_count": 0,
      "outputs": []
    },
    {
      "cell_type": "code",
      "metadata": {
        "id": "e2VDDBVVhRFj",
        "colab_type": "code",
        "colab": {}
      },
      "source": [
        "from sklearn.datasets import load_breast_cancer\n",
        "from sklearn.model_selection import train_test_split\n",
        "from sklearn.preprocessing import StandardScaler"
      ],
      "execution_count": 0,
      "outputs": []
    },
    {
      "cell_type": "code",
      "metadata": {
        "id": "YuPHmTlmhita",
        "colab_type": "code",
        "outputId": "4d9d9f37-2ad5-4804-9dfb-d215f7a9718b",
        "colab": {
          "base_uri": "https://localhost:8080/",
          "height": 34
        }
      },
      "source": [
        "dataset = load_breast_cancer()\n",
        "type(dataset)"
      ],
      "execution_count": 4,
      "outputs": [
        {
          "output_type": "execute_result",
          "data": {
            "text/plain": [
              "sklearn.utils.Bunch"
            ]
          },
          "metadata": {
            "tags": []
          },
          "execution_count": 4
        }
      ]
    },
    {
      "cell_type": "code",
      "metadata": {
        "id": "skZjN2w_ilFS",
        "colab_type": "code",
        "outputId": "2e3b81b5-924e-4a01-920a-aa80fba35624",
        "colab": {
          "base_uri": "https://localhost:8080/",
          "height": 34
        }
      },
      "source": [
        "dataset.keys()"
      ],
      "execution_count": 5,
      "outputs": [
        {
          "output_type": "execute_result",
          "data": {
            "text/plain": [
              "dict_keys(['data', 'target', 'target_names', 'DESCR', 'feature_names', 'filename'])"
            ]
          },
          "metadata": {
            "tags": []
          },
          "execution_count": 5
        }
      ]
    },
    {
      "cell_type": "code",
      "metadata": {
        "id": "UQfDhBtMjFXo",
        "colab_type": "code",
        "colab": {}
      },
      "source": [
        "# dataset.data.shape          (569, 30)\n",
        "# dataset.target.shape        (569,)"
      ],
      "execution_count": 0,
      "outputs": []
    },
    {
      "cell_type": "code",
      "metadata": {
        "id": "yPndX69rkIiA",
        "colab_type": "code",
        "colab": {}
      },
      "source": [
        "# dataset.target_names        array(['malignant', 'benign'], dtype='<U9')\n",
        "# dataset.feature_names       array(['mean radius', 'mean texture', 'mean perimeter', 'mean area',\n",
        "#                                   'mean smoothness', 'mean compactness', 'mean concavity',\n",
        "#                                   'mean concave points', 'mean symmetry', 'mean fractal dimension',\n",
        "#                                   'radius error', 'texture error', 'perimeter error', 'area error',\n",
        "#                                   'smoothness error', 'compactness error', 'concavity error',\n",
        "#                                   'concave points error', 'symmetry error',\n",
        "#                                   'fractal dimension error', 'worst radius', 'worst texture',\n",
        "#                                   'worst perimeter', 'worst area', 'worst smoothness',\n",
        "#                                   'worst compactness', 'worst concavity', 'worst concave points',\n",
        "#                                   'worst symmetry', 'worst fractal dimension'], dtype='<U23')"
      ],
      "execution_count": 0,
      "outputs": []
    },
    {
      "cell_type": "code",
      "metadata": {
        "id": "LswAwe4Jk0Rj",
        "colab_type": "code",
        "colab": {}
      },
      "source": [
        "X_train, X_test, y_train, y_test = train_test_split(dataset.data, dataset.target, test_size=0.33)\n",
        "N, D = X_train.shape\n",
        "# X_train.shape      (381, 30)\n",
        "# y_train.shape      (381,)\n",
        "# X_test.shape       (188, 30)\n",
        "# y_test.shape       (188,)"
      ],
      "execution_count": 0,
      "outputs": []
    },
    {
      "cell_type": "code",
      "metadata": {
        "id": "Cza4YQ-zot98",
        "colab_type": "code",
        "colab": {}
      },
      "source": [
        "# The idea behind StandardScaler is that it will transform your data such that its distribution will have a mean value 0 and standard deviation of 1.\n",
        "# Given the distribution of the data, each value in the dataset will have the mean value subtracted, and then divided by the standard deviation of the \n",
        "# whole dataset (or feature in the multivariate case)\n",
        "scalar = StandardScaler()\n",
        "X_train = scalar.fit_transform(X_train)\n",
        "X_test = scalar.transform(X_test)"
      ],
      "execution_count": 0,
      "outputs": []
    },
    {
      "cell_type": "code",
      "metadata": {
        "id": "3m-Tx1nVq9zM",
        "colab_type": "code",
        "colab": {}
      },
      "source": [
        "model = Sequential()\n",
        "model.add(Dense(1, input_dim=D, activation='sigmoid'))\n",
        "# model = tf.keras.models.Sequential([\n",
        "#                                     tf.keras.layers.Input(shape=(D,)),\n",
        "#                                     tf.keras.layers.Dense(1, activation='sigmoid')\n",
        "# ])"
      ],
      "execution_count": 0,
      "outputs": []
    },
    {
      "cell_type": "code",
      "metadata": {
        "id": "FHuVl1TsyKR1",
        "colab_type": "code",
        "colab": {}
      },
      "source": [
        "model.compile(\n",
        "    loss = 'binary_crossentropy',\n",
        "    optimizer = 'adam',\n",
        "    metrics = ['accuracy']\n",
        ")"
      ],
      "execution_count": 0,
      "outputs": []
    },
    {
      "cell_type": "code",
      "metadata": {
        "id": "OEyD_q4dztpp",
        "colab_type": "code",
        "outputId": "2d73b280-64c7-42cd-902b-a043f133b5eb",
        "colab": {
          "base_uri": "https://localhost:8080/",
          "height": 187
        }
      },
      "source": [
        "model.summary()"
      ],
      "execution_count": 12,
      "outputs": [
        {
          "output_type": "stream",
          "text": [
            "Model: \"sequential\"\n",
            "_________________________________________________________________\n",
            "Layer (type)                 Output Shape              Param #   \n",
            "=================================================================\n",
            "dense (Dense)                (None, 1)                 31        \n",
            "=================================================================\n",
            "Total params: 31\n",
            "Trainable params: 31\n",
            "Non-trainable params: 0\n",
            "_________________________________________________________________\n"
          ],
          "name": "stdout"
        }
      ]
    },
    {
      "cell_type": "code",
      "metadata": {
        "id": "7p2JLi5Sz2Qj",
        "colab_type": "code",
        "outputId": "3ed6aea1-6892-4556-93c5-caa4abf4314c",
        "colab": {
          "base_uri": "https://localhost:8080/",
          "height": 1000
        }
      },
      "source": [
        "r = model.fit(X_train, y_train, validation_data=(X_test, y_test), epochs=100)"
      ],
      "execution_count": 13,
      "outputs": [
        {
          "output_type": "stream",
          "text": [
            "Train on 381 samples, validate on 188 samples\n",
            "Epoch 1/100\n",
            "381/381 [==============================] - 2s 6ms/sample - loss: 1.1136 - accuracy: 0.2966 - val_loss: 1.0305 - val_accuracy: 0.3564\n",
            "Epoch 2/100\n",
            "381/381 [==============================] - 0s 141us/sample - loss: 1.0033 - accuracy: 0.3333 - val_loss: 0.9265 - val_accuracy: 0.4255\n",
            "Epoch 3/100\n",
            "381/381 [==============================] - 0s 142us/sample - loss: 0.9012 - accuracy: 0.3832 - val_loss: 0.8325 - val_accuracy: 0.4681\n",
            "Epoch 4/100\n",
            "381/381 [==============================] - 0s 140us/sample - loss: 0.8103 - accuracy: 0.4488 - val_loss: 0.7488 - val_accuracy: 0.5319\n",
            "Epoch 5/100\n",
            "381/381 [==============================] - 0s 154us/sample - loss: 0.7311 - accuracy: 0.5512 - val_loss: 0.6754 - val_accuracy: 0.6223\n",
            "Epoch 6/100\n",
            "381/381 [==============================] - 0s 175us/sample - loss: 0.6627 - accuracy: 0.6194 - val_loss: 0.6121 - val_accuracy: 0.6915\n",
            "Epoch 7/100\n",
            "381/381 [==============================] - 0s 130us/sample - loss: 0.6016 - accuracy: 0.6929 - val_loss: 0.5595 - val_accuracy: 0.7447\n",
            "Epoch 8/100\n",
            "381/381 [==============================] - 0s 136us/sample - loss: 0.5513 - accuracy: 0.7297 - val_loss: 0.5138 - val_accuracy: 0.7766\n",
            "Epoch 9/100\n",
            "381/381 [==============================] - 0s 143us/sample - loss: 0.5081 - accuracy: 0.7664 - val_loss: 0.4743 - val_accuracy: 0.8245\n",
            "Epoch 10/100\n",
            "381/381 [==============================] - 0s 171us/sample - loss: 0.4705 - accuracy: 0.7979 - val_loss: 0.4409 - val_accuracy: 0.8564\n",
            "Epoch 11/100\n",
            "381/381 [==============================] - 0s 134us/sample - loss: 0.4388 - accuracy: 0.8294 - val_loss: 0.4118 - val_accuracy: 0.8723\n",
            "Epoch 12/100\n",
            "381/381 [==============================] - 0s 120us/sample - loss: 0.4116 - accuracy: 0.8635 - val_loss: 0.3863 - val_accuracy: 0.8936\n",
            "Epoch 13/100\n",
            "381/381 [==============================] - 0s 123us/sample - loss: 0.3879 - accuracy: 0.8950 - val_loss: 0.3641 - val_accuracy: 0.8989\n",
            "Epoch 14/100\n",
            "381/381 [==============================] - 0s 128us/sample - loss: 0.3669 - accuracy: 0.9108 - val_loss: 0.3450 - val_accuracy: 0.8936\n",
            "Epoch 15/100\n",
            "381/381 [==============================] - 0s 136us/sample - loss: 0.3494 - accuracy: 0.9213 - val_loss: 0.3273 - val_accuracy: 0.9043\n",
            "Epoch 16/100\n",
            "381/381 [==============================] - 0s 126us/sample - loss: 0.3332 - accuracy: 0.9291 - val_loss: 0.3118 - val_accuracy: 0.9202\n",
            "Epoch 17/100\n",
            "381/381 [==============================] - 0s 123us/sample - loss: 0.3194 - accuracy: 0.9344 - val_loss: 0.2976 - val_accuracy: 0.9362\n",
            "Epoch 18/100\n",
            "381/381 [==============================] - 0s 127us/sample - loss: 0.3063 - accuracy: 0.9449 - val_loss: 0.2854 - val_accuracy: 0.9415\n",
            "Epoch 19/100\n",
            "381/381 [==============================] - 0s 123us/sample - loss: 0.2951 - accuracy: 0.9475 - val_loss: 0.2741 - val_accuracy: 0.9415\n",
            "Epoch 20/100\n",
            "381/381 [==============================] - 0s 146us/sample - loss: 0.2849 - accuracy: 0.9501 - val_loss: 0.2639 - val_accuracy: 0.9415\n",
            "Epoch 21/100\n",
            "381/381 [==============================] - 0s 144us/sample - loss: 0.2756 - accuracy: 0.9528 - val_loss: 0.2545 - val_accuracy: 0.9415\n",
            "Epoch 22/100\n",
            "381/381 [==============================] - 0s 131us/sample - loss: 0.2673 - accuracy: 0.9501 - val_loss: 0.2457 - val_accuracy: 0.9468\n",
            "Epoch 23/100\n",
            "381/381 [==============================] - 0s 135us/sample - loss: 0.2594 - accuracy: 0.9528 - val_loss: 0.2378 - val_accuracy: 0.9468\n",
            "Epoch 24/100\n",
            "381/381 [==============================] - 0s 131us/sample - loss: 0.2522 - accuracy: 0.9528 - val_loss: 0.2306 - val_accuracy: 0.9468\n",
            "Epoch 25/100\n",
            "381/381 [==============================] - 0s 128us/sample - loss: 0.2456 - accuracy: 0.9554 - val_loss: 0.2239 - val_accuracy: 0.9468\n",
            "Epoch 26/100\n",
            "381/381 [==============================] - 0s 135us/sample - loss: 0.2396 - accuracy: 0.9554 - val_loss: 0.2175 - val_accuracy: 0.9468\n",
            "Epoch 27/100\n",
            "381/381 [==============================] - 0s 128us/sample - loss: 0.2339 - accuracy: 0.9606 - val_loss: 0.2116 - val_accuracy: 0.9468\n",
            "Epoch 28/100\n",
            "381/381 [==============================] - 0s 122us/sample - loss: 0.2285 - accuracy: 0.9606 - val_loss: 0.2063 - val_accuracy: 0.9468\n",
            "Epoch 29/100\n",
            "381/381 [==============================] - 0s 185us/sample - loss: 0.2236 - accuracy: 0.9606 - val_loss: 0.2012 - val_accuracy: 0.9468\n",
            "Epoch 30/100\n",
            "381/381 [==============================] - 0s 135us/sample - loss: 0.2189 - accuracy: 0.9606 - val_loss: 0.1965 - val_accuracy: 0.9468\n",
            "Epoch 31/100\n",
            "381/381 [==============================] - 0s 128us/sample - loss: 0.2145 - accuracy: 0.9606 - val_loss: 0.1921 - val_accuracy: 0.9468\n",
            "Epoch 32/100\n",
            "381/381 [==============================] - 0s 132us/sample - loss: 0.2103 - accuracy: 0.9606 - val_loss: 0.1880 - val_accuracy: 0.9468\n",
            "Epoch 33/100\n",
            "381/381 [==============================] - 0s 145us/sample - loss: 0.2065 - accuracy: 0.9606 - val_loss: 0.1840 - val_accuracy: 0.9468\n",
            "Epoch 34/100\n",
            "381/381 [==============================] - 0s 139us/sample - loss: 0.2027 - accuracy: 0.9606 - val_loss: 0.1802 - val_accuracy: 0.9521\n",
            "Epoch 35/100\n",
            "381/381 [==============================] - 0s 124us/sample - loss: 0.1992 - accuracy: 0.9606 - val_loss: 0.1766 - val_accuracy: 0.9521\n",
            "Epoch 36/100\n",
            "381/381 [==============================] - 0s 117us/sample - loss: 0.1958 - accuracy: 0.9580 - val_loss: 0.1734 - val_accuracy: 0.9521\n",
            "Epoch 37/100\n",
            "381/381 [==============================] - 0s 119us/sample - loss: 0.1926 - accuracy: 0.9580 - val_loss: 0.1702 - val_accuracy: 0.9521\n",
            "Epoch 38/100\n",
            "381/381 [==============================] - 0s 129us/sample - loss: 0.1896 - accuracy: 0.9580 - val_loss: 0.1673 - val_accuracy: 0.9521\n",
            "Epoch 39/100\n",
            "381/381 [==============================] - 0s 128us/sample - loss: 0.1867 - accuracy: 0.9580 - val_loss: 0.1645 - val_accuracy: 0.9521\n",
            "Epoch 40/100\n",
            "381/381 [==============================] - 0s 120us/sample - loss: 0.1839 - accuracy: 0.9580 - val_loss: 0.1618 - val_accuracy: 0.9521\n",
            "Epoch 41/100\n",
            "381/381 [==============================] - 0s 146us/sample - loss: 0.1813 - accuracy: 0.9580 - val_loss: 0.1592 - val_accuracy: 0.9521\n",
            "Epoch 42/100\n",
            "381/381 [==============================] - 0s 151us/sample - loss: 0.1787 - accuracy: 0.9580 - val_loss: 0.1568 - val_accuracy: 0.9574\n",
            "Epoch 43/100\n",
            "381/381 [==============================] - 0s 132us/sample - loss: 0.1763 - accuracy: 0.9580 - val_loss: 0.1544 - val_accuracy: 0.9574\n",
            "Epoch 44/100\n",
            "381/381 [==============================] - 0s 126us/sample - loss: 0.1739 - accuracy: 0.9606 - val_loss: 0.1522 - val_accuracy: 0.9574\n",
            "Epoch 45/100\n",
            "381/381 [==============================] - 0s 143us/sample - loss: 0.1717 - accuracy: 0.9606 - val_loss: 0.1500 - val_accuracy: 0.9574\n",
            "Epoch 46/100\n",
            "381/381 [==============================] - 0s 135us/sample - loss: 0.1695 - accuracy: 0.9606 - val_loss: 0.1480 - val_accuracy: 0.9574\n",
            "Epoch 47/100\n",
            "381/381 [==============================] - 0s 128us/sample - loss: 0.1674 - accuracy: 0.9606 - val_loss: 0.1462 - val_accuracy: 0.9574\n",
            "Epoch 48/100\n",
            "381/381 [==============================] - 0s 126us/sample - loss: 0.1655 - accuracy: 0.9606 - val_loss: 0.1442 - val_accuracy: 0.9574\n",
            "Epoch 49/100\n",
            "381/381 [==============================] - 0s 153us/sample - loss: 0.1635 - accuracy: 0.9633 - val_loss: 0.1425 - val_accuracy: 0.9574\n",
            "Epoch 50/100\n",
            "381/381 [==============================] - 0s 159us/sample - loss: 0.1616 - accuracy: 0.9633 - val_loss: 0.1407 - val_accuracy: 0.9574\n",
            "Epoch 51/100\n",
            "381/381 [==============================] - 0s 146us/sample - loss: 0.1598 - accuracy: 0.9633 - val_loss: 0.1392 - val_accuracy: 0.9574\n",
            "Epoch 52/100\n",
            "381/381 [==============================] - 0s 138us/sample - loss: 0.1580 - accuracy: 0.9633 - val_loss: 0.1376 - val_accuracy: 0.9574\n",
            "Epoch 53/100\n",
            "381/381 [==============================] - 0s 130us/sample - loss: 0.1563 - accuracy: 0.9633 - val_loss: 0.1361 - val_accuracy: 0.9574\n",
            "Epoch 54/100\n",
            "381/381 [==============================] - 0s 133us/sample - loss: 0.1547 - accuracy: 0.9633 - val_loss: 0.1346 - val_accuracy: 0.9574\n",
            "Epoch 55/100\n",
            "381/381 [==============================] - 0s 123us/sample - loss: 0.1531 - accuracy: 0.9606 - val_loss: 0.1331 - val_accuracy: 0.9574\n",
            "Epoch 56/100\n",
            "381/381 [==============================] - 0s 124us/sample - loss: 0.1516 - accuracy: 0.9606 - val_loss: 0.1318 - val_accuracy: 0.9574\n",
            "Epoch 57/100\n",
            "381/381 [==============================] - 0s 133us/sample - loss: 0.1501 - accuracy: 0.9606 - val_loss: 0.1305 - val_accuracy: 0.9574\n",
            "Epoch 58/100\n",
            "381/381 [==============================] - 0s 132us/sample - loss: 0.1486 - accuracy: 0.9606 - val_loss: 0.1293 - val_accuracy: 0.9574\n",
            "Epoch 59/100\n",
            "381/381 [==============================] - 0s 126us/sample - loss: 0.1473 - accuracy: 0.9606 - val_loss: 0.1280 - val_accuracy: 0.9574\n",
            "Epoch 60/100\n",
            "381/381 [==============================] - 0s 119us/sample - loss: 0.1459 - accuracy: 0.9606 - val_loss: 0.1268 - val_accuracy: 0.9574\n",
            "Epoch 61/100\n",
            "381/381 [==============================] - 0s 151us/sample - loss: 0.1446 - accuracy: 0.9606 - val_loss: 0.1257 - val_accuracy: 0.9574\n",
            "Epoch 62/100\n",
            "381/381 [==============================] - 0s 138us/sample - loss: 0.1433 - accuracy: 0.9606 - val_loss: 0.1246 - val_accuracy: 0.9574\n",
            "Epoch 63/100\n",
            "381/381 [==============================] - 0s 140us/sample - loss: 0.1420 - accuracy: 0.9606 - val_loss: 0.1235 - val_accuracy: 0.9574\n",
            "Epoch 64/100\n",
            "381/381 [==============================] - 0s 133us/sample - loss: 0.1408 - accuracy: 0.9606 - val_loss: 0.1225 - val_accuracy: 0.9574\n",
            "Epoch 65/100\n",
            "381/381 [==============================] - 0s 120us/sample - loss: 0.1397 - accuracy: 0.9606 - val_loss: 0.1215 - val_accuracy: 0.9574\n",
            "Epoch 66/100\n",
            "381/381 [==============================] - 0s 155us/sample - loss: 0.1385 - accuracy: 0.9606 - val_loss: 0.1206 - val_accuracy: 0.9574\n",
            "Epoch 67/100\n",
            "381/381 [==============================] - 0s 123us/sample - loss: 0.1374 - accuracy: 0.9633 - val_loss: 0.1196 - val_accuracy: 0.9574\n",
            "Epoch 68/100\n",
            "381/381 [==============================] - 0s 150us/sample - loss: 0.1363 - accuracy: 0.9633 - val_loss: 0.1187 - val_accuracy: 0.9574\n",
            "Epoch 69/100\n",
            "381/381 [==============================] - 0s 135us/sample - loss: 0.1353 - accuracy: 0.9633 - val_loss: 0.1178 - val_accuracy: 0.9574\n",
            "Epoch 70/100\n",
            "381/381 [==============================] - 0s 149us/sample - loss: 0.1342 - accuracy: 0.9633 - val_loss: 0.1170 - val_accuracy: 0.9628\n",
            "Epoch 71/100\n",
            "381/381 [==============================] - 0s 125us/sample - loss: 0.1332 - accuracy: 0.9633 - val_loss: 0.1161 - val_accuracy: 0.9628\n",
            "Epoch 72/100\n",
            "381/381 [==============================] - 0s 189us/sample - loss: 0.1322 - accuracy: 0.9633 - val_loss: 0.1153 - val_accuracy: 0.9628\n",
            "Epoch 73/100\n",
            "381/381 [==============================] - 0s 140us/sample - loss: 0.1313 - accuracy: 0.9659 - val_loss: 0.1145 - val_accuracy: 0.9628\n",
            "Epoch 74/100\n",
            "381/381 [==============================] - 0s 138us/sample - loss: 0.1303 - accuracy: 0.9659 - val_loss: 0.1138 - val_accuracy: 0.9628\n",
            "Epoch 75/100\n",
            "381/381 [==============================] - 0s 125us/sample - loss: 0.1294 - accuracy: 0.9659 - val_loss: 0.1131 - val_accuracy: 0.9681\n",
            "Epoch 76/100\n",
            "381/381 [==============================] - 0s 137us/sample - loss: 0.1285 - accuracy: 0.9659 - val_loss: 0.1124 - val_accuracy: 0.9681\n",
            "Epoch 77/100\n",
            "381/381 [==============================] - 0s 133us/sample - loss: 0.1276 - accuracy: 0.9659 - val_loss: 0.1117 - val_accuracy: 0.9681\n",
            "Epoch 78/100\n",
            "381/381 [==============================] - 0s 154us/sample - loss: 0.1268 - accuracy: 0.9659 - val_loss: 0.1111 - val_accuracy: 0.9681\n",
            "Epoch 79/100\n",
            "381/381 [==============================] - 0s 148us/sample - loss: 0.1259 - accuracy: 0.9659 - val_loss: 0.1103 - val_accuracy: 0.9681\n",
            "Epoch 80/100\n",
            "381/381 [==============================] - 0s 133us/sample - loss: 0.1251 - accuracy: 0.9659 - val_loss: 0.1096 - val_accuracy: 0.9681\n",
            "Epoch 81/100\n",
            "381/381 [==============================] - 0s 146us/sample - loss: 0.1243 - accuracy: 0.9659 - val_loss: 0.1090 - val_accuracy: 0.9681\n",
            "Epoch 82/100\n",
            "381/381 [==============================] - 0s 145us/sample - loss: 0.1235 - accuracy: 0.9659 - val_loss: 0.1084 - val_accuracy: 0.9681\n",
            "Epoch 83/100\n",
            "381/381 [==============================] - 0s 153us/sample - loss: 0.1228 - accuracy: 0.9685 - val_loss: 0.1079 - val_accuracy: 0.9681\n",
            "Epoch 84/100\n",
            "381/381 [==============================] - 0s 131us/sample - loss: 0.1220 - accuracy: 0.9685 - val_loss: 0.1073 - val_accuracy: 0.9681\n",
            "Epoch 85/100\n",
            "381/381 [==============================] - 0s 139us/sample - loss: 0.1213 - accuracy: 0.9685 - val_loss: 0.1067 - val_accuracy: 0.9681\n",
            "Epoch 86/100\n",
            "381/381 [==============================] - 0s 147us/sample - loss: 0.1206 - accuracy: 0.9685 - val_loss: 0.1062 - val_accuracy: 0.9681\n",
            "Epoch 87/100\n",
            "381/381 [==============================] - 0s 134us/sample - loss: 0.1199 - accuracy: 0.9685 - val_loss: 0.1055 - val_accuracy: 0.9681\n",
            "Epoch 88/100\n",
            "381/381 [==============================] - 0s 134us/sample - loss: 0.1192 - accuracy: 0.9685 - val_loss: 0.1051 - val_accuracy: 0.9681\n",
            "Epoch 89/100\n",
            "381/381 [==============================] - 0s 127us/sample - loss: 0.1185 - accuracy: 0.9685 - val_loss: 0.1045 - val_accuracy: 0.9681\n",
            "Epoch 90/100\n",
            "381/381 [==============================] - 0s 132us/sample - loss: 0.1178 - accuracy: 0.9685 - val_loss: 0.1041 - val_accuracy: 0.9681\n",
            "Epoch 91/100\n",
            "381/381 [==============================] - 0s 126us/sample - loss: 0.1172 - accuracy: 0.9685 - val_loss: 0.1036 - val_accuracy: 0.9681\n",
            "Epoch 92/100\n",
            "381/381 [==============================] - 0s 137us/sample - loss: 0.1166 - accuracy: 0.9685 - val_loss: 0.1031 - val_accuracy: 0.9628\n",
            "Epoch 93/100\n",
            "381/381 [==============================] - 0s 130us/sample - loss: 0.1160 - accuracy: 0.9685 - val_loss: 0.1026 - val_accuracy: 0.9628\n",
            "Epoch 94/100\n",
            "381/381 [==============================] - 0s 160us/sample - loss: 0.1153 - accuracy: 0.9685 - val_loss: 0.1021 - val_accuracy: 0.9628\n",
            "Epoch 95/100\n",
            "381/381 [==============================] - 0s 130us/sample - loss: 0.1147 - accuracy: 0.9685 - val_loss: 0.1017 - val_accuracy: 0.9628\n",
            "Epoch 96/100\n",
            "381/381 [==============================] - 0s 137us/sample - loss: 0.1142 - accuracy: 0.9685 - val_loss: 0.1013 - val_accuracy: 0.9628\n",
            "Epoch 97/100\n",
            "381/381 [==============================] - 0s 132us/sample - loss: 0.1135 - accuracy: 0.9685 - val_loss: 0.1009 - val_accuracy: 0.9628\n",
            "Epoch 98/100\n",
            "381/381 [==============================] - 0s 134us/sample - loss: 0.1130 - accuracy: 0.9685 - val_loss: 0.1006 - val_accuracy: 0.9681\n",
            "Epoch 99/100\n",
            "381/381 [==============================] - 0s 124us/sample - loss: 0.1124 - accuracy: 0.9685 - val_loss: 0.1001 - val_accuracy: 0.9681\n",
            "Epoch 100/100\n",
            "381/381 [==============================] - 0s 149us/sample - loss: 0.1119 - accuracy: 0.9685 - val_loss: 0.0997 - val_accuracy: 0.9681\n"
          ],
          "name": "stdout"
        }
      ]
    },
    {
      "cell_type": "code",
      "metadata": {
        "id": "jpN_iInSKEBC",
        "colab_type": "code",
        "outputId": "3c289374-bfbb-4643-f520-dad0136b1b41",
        "colab": {
          "base_uri": "https://localhost:8080/",
          "height": 298
        }
      },
      "source": [
        "plt.plot(r.history['loss'], label='Training Loss')\n",
        "plt.plot(r.history['val_loss'], label='Test Loss')\n",
        "plt.legend()\n",
        "plt.title('Training & Test Loss')"
      ],
      "execution_count": 14,
      "outputs": [
        {
          "output_type": "execute_result",
          "data": {
            "text/plain": [
              "Text(0.5, 1.0, 'Training & Test Loss')"
            ]
          },
          "metadata": {
            "tags": []
          },
          "execution_count": 14
        },
        {
          "output_type": "display_data",
          "data": {
            "image/png": "[encoded data removed]",
            "text/plain": [
              "<Figure size 432x288 with 1 Axes>"
            ]
          },
          "metadata": {
            "tags": []
          }
        }
      ]
    },
    {
      "cell_type": "code",
      "metadata": {
        "id": "NzfJVTASMStJ",
        "colab_type": "code",
        "outputId": "292200b2-a07e-4a6a-aaee-d22ab7d7c528",
        "colab": {
          "base_uri": "https://localhost:8080/",
          "height": 298
        }
      },
      "source": [
        "plt.plot(r.history['accuracy'], label='Training Accuracy')\n",
        "plt.plot(r.history['val_accuracy'], label='Test Accuracy')\n",
        "plt.legend()\n",
        "plt.title('Training & Test Accuracy')"
      ],
      "execution_count": 15,
      "outputs": [
        {
          "output_type": "execute_result",
          "data": {
            "text/plain": [
              "Text(0.5, 1.0, 'Training & Test Accuracy')"
            ]
          },
          "metadata": {
            "tags": []
          },
          "execution_count": 15
        },
        {
          "output_type": "display_data",
          "data": {
            "image/png": "[encoded data removed]",
            "text/plain": [
              "<Figure size 432x288 with 1 Axes>"
            ]
          },
          "metadata": {
            "tags": []
          }
        }
      ]
    },
    {
      "cell_type": "markdown",
      "metadata": {
        "id": "ySVFS-wDDg1E",
        "colab_type": "text"
      },
      "source": [
        "**Prediction**"
      ]
    },
    {
      "cell_type": "code",
      "metadata": {
        "id": "7gJ4IEfqAnxK",
        "colab_type": "code",
        "colab": {
          "base_uri": "https://localhost:8080/",
          "height": 1000
        },
        "outputId": "6cf6b161-5940-4e2b-9dba-a84661a095b5"
      },
      "source": [
        "# y_test.shape          (188,)       \n",
        "pred = model.predict(X_test)\n",
        "print(pred)\n",
        "# pred.shape            (188, 1)"
      ],
      "execution_count": 37,
      "outputs": [
        {
          "output_type": "stream",
          "text": [
            "[[9.0197790e-01]\n",
            " [9.9282420e-01]\n",
            " [2.4452727e-02]\n",
            " [2.3821396e-04]\n",
            " [9.7979915e-01]\n",
            " [9.3282270e-01]\n",
            " [9.9143136e-01]\n",
            " [9.1096139e-01]\n",
            " [9.9580598e-01]\n",
            " [9.9814487e-01]\n",
            " [5.5679367e-03]\n",
            " [9.5475477e-01]\n",
            " [6.7401193e-03]\n",
            " [9.9618149e-01]\n",
            " [9.4659559e-02]\n",
            " [9.7931218e-01]\n",
            " [8.9913957e-02]\n",
            " [9.9752885e-01]\n",
            " [9.6086907e-01]\n",
            " [9.7501493e-01]\n",
            " [9.7642231e-01]\n",
            " [9.9953806e-01]\n",
            " [1.8819081e-02]\n",
            " [6.8582088e-01]\n",
            " [9.9768013e-01]\n",
            " [9.9709785e-01]\n",
            " [9.6605420e-01]\n",
            " [9.8915172e-01]\n",
            " [8.7838054e-01]\n",
            " [9.5013326e-01]\n",
            " [1.3886595e-02]\n",
            " [9.3481734e-02]\n",
            " [2.7594797e-03]\n",
            " [2.4476096e-01]\n",
            " [6.3106783e-02]\n",
            " [1.8963550e-03]\n",
            " [8.3965421e-01]\n",
            " [8.8003683e-01]\n",
            " [1.4746151e-02]\n",
            " [2.3976543e-03]\n",
            " [8.1740104e-04]\n",
            " [9.9930024e-01]\n",
            " [9.9110913e-01]\n",
            " [1.2535003e-03]\n",
            " [9.7245669e-01]\n",
            " [9.7074383e-01]\n",
            " [7.4327993e-04]\n",
            " [9.8966378e-01]\n",
            " [9.7239596e-01]\n",
            " [9.7764456e-01]\n",
            " [9.9764282e-01]\n",
            " [4.9087352e-01]\n",
            " [9.9422294e-01]\n",
            " [1.6125366e-02]\n",
            " [9.9447614e-01]\n",
            " [1.6705408e-06]\n",
            " [3.5481688e-02]\n",
            " [9.9514598e-01]\n",
            " [9.6748394e-01]\n",
            " [9.4816285e-01]\n",
            " [9.8387742e-01]\n",
            " [2.2382906e-03]\n",
            " [9.9822682e-01]\n",
            " [9.7901607e-01]\n",
            " [2.5011920e-03]\n",
            " [1.7888050e-07]\n",
            " [9.9875391e-01]\n",
            " [8.8176060e-01]\n",
            " [6.0405795e-02]\n",
            " [2.4570527e-02]\n",
            " [9.9108338e-01]\n",
            " [9.9910921e-01]\n",
            " [9.8999864e-01]\n",
            " [9.4043595e-01]\n",
            " [8.9708799e-01]\n",
            " [9.9787068e-01]\n",
            " [9.7468150e-01]\n",
            " [8.2227308e-01]\n",
            " [2.4293253e-01]\n",
            " [9.5957208e-01]\n",
            " [9.2359269e-01]\n",
            " [5.4033881e-01]\n",
            " [4.0970102e-02]\n",
            " [8.6600222e-03]\n",
            " [8.8853063e-04]\n",
            " [5.0107980e-01]\n",
            " [9.7973722e-01]\n",
            " [6.1015561e-07]\n",
            " [9.9897075e-01]\n",
            " [8.3713889e-01]\n",
            " [9.5948726e-01]\n",
            " [9.8448873e-01]\n",
            " [2.8712470e-06]\n",
            " [9.9523526e-01]\n",
            " [9.7016406e-01]\n",
            " [9.9539691e-01]\n",
            " [9.4787186e-01]\n",
            " [1.8664992e-01]\n",
            " [9.9665725e-01]\n",
            " [9.8719770e-01]\n",
            " [9.9636650e-01]\n",
            " [8.2670957e-02]\n",
            " [5.1892608e-01]\n",
            " [7.3268525e-02]\n",
            " [9.9555606e-01]\n",
            " [5.0846773e-01]\n",
            " [9.2441332e-01]\n",
            " [9.8197430e-01]\n",
            " [9.6860951e-01]\n",
            " [1.4874260e-03]\n",
            " [9.0866733e-01]\n",
            " [9.9908376e-01]\n",
            " [8.7043846e-01]\n",
            " [2.4647386e-05]\n",
            " [1.7354112e-03]\n",
            " [9.7162187e-01]\n",
            " [9.8046255e-01]\n",
            " [1.3415788e-01]\n",
            " [9.5974070e-01]\n",
            " [9.9647647e-01]\n",
            " [9.5940131e-01]\n",
            " [9.9910188e-01]\n",
            " [8.4035623e-01]\n",
            " [6.9485378e-01]\n",
            " [5.7209726e-02]\n",
            " [9.9469274e-01]\n",
            " [9.0522587e-01]\n",
            " [7.9996338e-05]\n",
            " [2.8016852e-04]\n",
            " [9.8341691e-01]\n",
            " [9.9357152e-01]\n",
            " [2.0251430e-04]\n",
            " [1.7278884e-02]\n",
            " [9.3532425e-01]\n",
            " [9.7536439e-01]\n",
            " [5.0482315e-01]\n",
            " [9.9873358e-01]\n",
            " [9.7216696e-01]\n",
            " [9.6524221e-01]\n",
            " [9.3788999e-01]\n",
            " [1.1371971e-02]\n",
            " [4.4120064e-01]\n",
            " [4.7623694e-01]\n",
            " [9.8234493e-01]\n",
            " [8.0322224e-01]\n",
            " [9.1152066e-01]\n",
            " [1.1683476e-04]\n",
            " [1.8566164e-01]\n",
            " [9.9581921e-01]\n",
            " [4.8545393e-04]\n",
            " [9.6606833e-01]\n",
            " [4.6348087e-02]\n",
            " [2.4490714e-02]\n",
            " [9.9338657e-01]\n",
            " [8.7695724e-01]\n",
            " [9.8524851e-01]\n",
            " [9.7524410e-01]\n",
            " [9.9964988e-01]\n",
            " [9.9762005e-01]\n",
            " [2.9804449e-05]\n",
            " [6.7758596e-01]\n",
            " [9.9025178e-01]\n",
            " [5.0784022e-02]\n",
            " [9.7709751e-01]\n",
            " [7.9869741e-01]\n",
            " [9.7178102e-01]\n",
            " [1.3845758e-02]\n",
            " [5.6591812e-03]\n",
            " [9.9896407e-01]\n",
            " [1.9305368e-01]\n",
            " [1.3466927e-06]\n",
            " [9.9986792e-01]\n",
            " [9.9373937e-01]\n",
            " [9.9908018e-01]\n",
            " [4.9584275e-01]\n",
            " [9.8339945e-01]\n",
            " [2.9885922e-02]\n",
            " [1.0021649e-01]\n",
            " [4.4460830e-01]\n",
            " [9.5435959e-01]\n",
            " [9.9803561e-01]\n",
            " [9.9516308e-01]\n",
            " [3.5524834e-05]\n",
            " [9.8499805e-01]\n",
            " [9.6778750e-01]\n",
            " [9.7708595e-01]\n",
            " [2.5264614e-03]\n",
            " [1.4061427e-04]]\n"
          ],
          "name": "stdout"
        }
      ]
    },
    {
      "cell_type": "code",
      "metadata": {
        "id": "lhFEs_d6C_ru",
        "colab_type": "code",
        "colab": {
          "base_uri": "https://localhost:8080/",
          "height": 1000
        },
        "outputId": "39c0a914-a8be-4b70-fdf0-ed788c539498"
      },
      "source": [
        "pred = np.round(pred)\n",
        "print(pred)\n",
        "# pred.shape        (188, 1)"
      ],
      "execution_count": 38,
      "outputs": [
        {
          "output_type": "stream",
          "text": [
            "[[1.]\n",
            " [1.]\n",
            " [0.]\n",
            " [0.]\n",
            " [1.]\n",
            " [1.]\n",
            " [1.]\n",
            " [1.]\n",
            " [1.]\n",
            " [1.]\n",
            " [0.]\n",
            " [1.]\n",
            " [0.]\n",
            " [1.]\n",
            " [0.]\n",
            " [1.]\n",
            " [0.]\n",
            " [1.]\n",
            " [1.]\n",
            " [1.]\n",
            " [1.]\n",
            " [1.]\n",
            " [0.]\n",
            " [1.]\n",
            " [1.]\n",
            " [1.]\n",
            " [1.]\n",
            " [1.]\n",
            " [1.]\n",
            " [1.]\n",
            " [0.]\n",
            " [0.]\n",
            " [0.]\n",
            " [0.]\n",
            " [0.]\n",
            " [0.]\n",
            " [1.]\n",
            " [1.]\n",
            " [0.]\n",
            " [0.]\n",
            " [0.]\n",
            " [1.]\n",
            " [1.]\n",
            " [0.]\n",
            " [1.]\n",
            " [1.]\n",
            " [0.]\n",
            " [1.]\n",
            " [1.]\n",
            " [1.]\n",
            " [1.]\n",
            " [0.]\n",
            " [1.]\n",
            " [0.]\n",
            " [1.]\n",
            " [0.]\n",
            " [0.]\n",
            " [1.]\n",
            " [1.]\n",
            " [1.]\n",
            " [1.]\n",
            " [0.]\n",
            " [1.]\n",
            " [1.]\n",
            " [0.]\n",
            " [0.]\n",
            " [1.]\n",
            " [1.]\n",
            " [0.]\n",
            " [0.]\n",
            " [1.]\n",
            " [1.]\n",
            " [1.]\n",
            " [1.]\n",
            " [1.]\n",
            " [1.]\n",
            " [1.]\n",
            " [1.]\n",
            " [0.]\n",
            " [1.]\n",
            " [1.]\n",
            " [1.]\n",
            " [0.]\n",
            " [0.]\n",
            " [0.]\n",
            " [1.]\n",
            " [1.]\n",
            " [0.]\n",
            " [1.]\n",
            " [1.]\n",
            " [1.]\n",
            " [1.]\n",
            " [0.]\n",
            " [1.]\n",
            " [1.]\n",
            " [1.]\n",
            " [1.]\n",
            " [0.]\n",
            " [1.]\n",
            " [1.]\n",
            " [1.]\n",
            " [0.]\n",
            " [1.]\n",
            " [0.]\n",
            " [1.]\n",
            " [1.]\n",
            " [1.]\n",
            " [1.]\n",
            " [1.]\n",
            " [0.]\n",
            " [1.]\n",
            " [1.]\n",
            " [1.]\n",
            " [0.]\n",
            " [0.]\n",
            " [1.]\n",
            " [1.]\n",
            " [0.]\n",
            " [1.]\n",
            " [1.]\n",
            " [1.]\n",
            " [1.]\n",
            " [1.]\n",
            " [1.]\n",
            " [0.]\n",
            " [1.]\n",
            " [1.]\n",
            " [0.]\n",
            " [0.]\n",
            " [1.]\n",
            " [1.]\n",
            " [0.]\n",
            " [0.]\n",
            " [1.]\n",
            " [1.]\n",
            " [1.]\n",
            " [1.]\n",
            " [1.]\n",
            " [1.]\n",
            " [1.]\n",
            " [0.]\n",
            " [0.]\n",
            " [0.]\n",
            " [1.]\n",
            " [1.]\n",
            " [1.]\n",
            " [0.]\n",
            " [0.]\n",
            " [1.]\n",
            " [0.]\n",
            " [1.]\n",
            " [0.]\n",
            " [0.]\n",
            " [1.]\n",
            " [1.]\n",
            " [1.]\n",
            " [1.]\n",
            " [1.]\n",
            " [1.]\n",
            " [0.]\n",
            " [1.]\n",
            " [1.]\n",
            " [0.]\n",
            " [1.]\n",
            " [1.]\n",
            " [1.]\n",
            " [0.]\n",
            " [0.]\n",
            " [1.]\n",
            " [0.]\n",
            " [0.]\n",
            " [1.]\n",
            " [1.]\n",
            " [1.]\n",
            " [0.]\n",
            " [1.]\n",
            " [0.]\n",
            " [0.]\n",
            " [0.]\n",
            " [1.]\n",
            " [1.]\n",
            " [1.]\n",
            " [0.]\n",
            " [1.]\n",
            " [1.]\n",
            " [1.]\n",
            " [0.]\n",
            " [0.]]\n"
          ],
          "name": "stdout"
        }
      ]
    },
    {
      "cell_type": "code",
      "metadata": {
        "id": "QUDvuytkEC1J",
        "colab_type": "code",
        "colab": {
          "base_uri": "https://localhost:8080/",
          "height": 153
        },
        "outputId": "06af62fa-2e1b-48ec-d98e-ecf3440ccba4"
      },
      "source": [
        "pred = pred.flatten()\n",
        "print(pred)\n",
        "# pred.shape         (188,)"
      ],
      "execution_count": 41,
      "outputs": [
        {
          "output_type": "stream",
          "text": [
            "[1. 1. 0. 0. 1. 1. 1. 1. 1. 1. 0. 1. 0. 1. 0. 1. 0. 1. 1. 1. 1. 1. 0. 1.\n",
            " 1. 1. 1. 1. 1. 1. 0. 0. 0. 0. 0. 0. 1. 1. 0. 0. 0. 1. 1. 0. 1. 1. 0. 1.\n",
            " 1. 1. 1. 0. 1. 0. 1. 0. 0. 1. 1. 1. 1. 0. 1. 1. 0. 0. 1. 1. 0. 0. 1. 1.\n",
            " 1. 1. 1. 1. 1. 1. 0. 1. 1. 1. 0. 0. 0. 1. 1. 0. 1. 1. 1. 1. 0. 1. 1. 1.\n",
            " 1. 0. 1. 1. 1. 0. 1. 0. 1. 1. 1. 1. 1. 0. 1. 1. 1. 0. 0. 1. 1. 0. 1. 1.\n",
            " 1. 1. 1. 1. 0. 1. 1. 0. 0. 1. 1. 0. 0. 1. 1. 1. 1. 1. 1. 1. 0. 0. 0. 1.\n",
            " 1. 1. 0. 0. 1. 0. 1. 0. 0. 1. 1. 1. 1. 1. 1. 0. 1. 1. 0. 1. 1. 1. 0. 0.\n",
            " 1. 0. 0. 1. 1. 1. 0. 1. 0. 0. 0. 1. 1. 1. 0. 1. 1. 1. 0. 0.]\n"
          ],
          "name": "stdout"
        }
      ]
    },
    {
      "cell_type": "code",
      "metadata": {
        "id": "iqFVRSiFFM4o",
        "colab_type": "code",
        "colab": {
          "base_uri": "https://localhost:8080/",
          "height": 68
        },
        "outputId": "afa3ff60-5b6a-4df6-e472-bbbf42da6980"
      },
      "source": [
        "print(\"Manual accuracy:\", np.mean(pred == y_test))\n",
        "print(\"Evaluate output:\", model.evaluate(X_test, y_test))"
      ],
      "execution_count": 43,
      "outputs": [
        {
          "output_type": "stream",
          "text": [
            "Manual accuracy: 0.9680851063829787\n",
            "188/188 [==============================] - 0s 111us/sample - loss: 0.0997 - accuracy: 0.9681\n",
            "Evaluate output: [0.09969296781940663, 0.9680851]\n"
          ],
          "name": "stdout"
        }
      ]
    },
    {
      "cell_type": "markdown",
      "metadata": {
        "id": "-uQTCnv9GiHA",
        "colab_type": "text"
      },
      "source": [
        "**Saving & loading model**"
      ]
    },
    {
      "cell_type": "code",
      "metadata": {
        "id": "arXzJpT9Gmwi",
        "colab_type": "code",
        "colab": {
          "base_uri": "https://localhost:8080/",
          "height": 68
        },
        "outputId": "41106c2e-87b0-499e-9ed1-bbcf7222a453"
      },
      "source": [
        "model.save('logistic.h5')\n",
        "\n",
        "# To download to local drive\n",
        "# from google.colab import files\n",
        "# files.download('logistic.h5')\n",
        "\n",
        "model = load_model('logistic.h5')\n",
        "print(model.layers)\n",
        "print(model.evaluate(X_test, y_test))"
      ],
      "execution_count": 50,
      "outputs": [
        {
          "output_type": "stream",
          "text": [
            "[<tensorflow.python.keras.layers.core.Dense object at 0x7f7f389f8550>]\n",
            "188/188 [==============================] - 0s 344us/sample - loss: 0.0997 - accuracy: 0.9681\n",
            "[0.09969296781940663, 0.9680851]\n"
          ],
          "name": "stdout"
        }
      ]
    }
  ]
}